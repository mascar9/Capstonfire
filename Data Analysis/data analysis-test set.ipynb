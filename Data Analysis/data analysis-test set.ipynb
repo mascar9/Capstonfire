{
 "cells": [
  {
   "cell_type": "code",
   "execution_count": 33,
   "metadata": {},
   "outputs": [
    {
     "data": {
      "text/plain": [
       "<contextlib.ExitStack at 0x20f9facc510>"
      ]
     },
     "execution_count": 33,
     "metadata": {},
     "output_type": "execute_result"
    }
   ],
   "source": [
    "import numpy as np\n",
    "import pandas as pd\n",
    "import matplotlib.pyplot as plt\n",
    "import seaborn as sns\n",
    "import plotly.express as px\n",
    "import plotly.graph_objects as go\n",
    "from plotly.subplots import make_subplots\n",
    "import os\n",
    "\n",
    "import cv2\n",
    "from torchvision import datasets\n",
    "import torch\n",
    "import torchvision\n",
    "import torchvision.transforms as transforms\n",
    "import imutils\n",
    "import torchvision.models as models\n",
    "\n",
    "from PIL import Image\n",
    "import matplotlib.pyplot as plt\n",
    "from imutils.video import VideoStream\n",
    "Image.LOAD_TRUNCATED_IMAGES = True\n",
    "plt.ion()"
   ]
  },
  {
   "cell_type": "code",
   "execution_count": 34,
   "metadata": {},
   "outputs": [],
   "source": [
    "base_path = \"C:\\\\Users\\\\johnn\\\\Desktop\\\\Repos\\\\Capstonfire\"\n",
    "test_dataset_path = os.path.join(base_path, \"test dataset videos\")"
   ]
  },
  {
   "cell_type": "markdown",
   "metadata": {},
   "source": [
    "# Exploratory Data Analysis"
   ]
  },
  {
   "cell_type": "markdown",
   "metadata": {},
   "source": [
    "## Testing dataset"
   ]
  },
  {
   "cell_type": "markdown",
   "metadata": {},
   "source": [
    "To create models that can predict the presence of fire in images, we first need to create a testing dataset that is not changed nor used to train the models. This allows for a testing process that is not changed and which the models do not know."
   ]
  },
  {
   "cell_type": "markdown",
   "metadata": {},
   "source": [
    "Since the models are to be used in cameras that are 99% of the time looking at forested areas, it makes sense to have a testing dataset that is a sequence of images obtained from videos that show the progression of a fire or that simply do not have any fires whatsoever."
   ]
  },
  {
   "cell_type": "markdown",
   "metadata": {},
   "source": [
    "To that end, we decided to create the testing dataset out of a series of videos obtained from the internet. Next is the list of videos used to create the dataset:\n",
    "\n",
    "Fire videos:\n",
    "\n",
    " - \"Raging Wildfires Burn Across Canada Sending Smoke Down to the US\", https://www.youtube.com/watch?v=bUfwUnin9DE\n",
    " - \"Bighorn Fire Timelapse 6-17-2020\", https://www.youtube.com/watch?v=UdMHoyqvQXA\n",
    " - \"Inside a Wildfire - Dramatic Drone Footage! Ep. 193a.\", https://www.youtube.com/watch?v=gA27ZI-_gCA\n",
    " - \"Wildfire Forest Fire (FREE STOCK VIDEO)\", https://www.youtube.com/watch?v=3kfA4sXoFag\n",
    " - \"Aerial Footage Shows Scale of Fires in Australia\", https://www.youtube.com/watch?v=DQpBiYI_7M0\n",
    "\n",
    "Non-fire videos:\n",
    "\n",
    " - \"Amazing Storm Timelapse\", https://www.youtube.com/watch?v=TgYCtOpbLSo\n",
    " - \"NEMUS - 4K Forest Time-Lapse\", https://www.youtube.com/watch?v=gcnsGDsc_PI\n",
    " - \"THE FOREST - A Time-Lapse Journey Through the Forgotten Norway 4K\", https://www.youtube.com/watch?v=xUesKDDcLoQ\n",
    " - \"Forming cumulonimbus (timelapse)\", https://www.youtube.com/watch?v=232LFz-aiz4\n",
    " - \"DARK FOG | Cinematic Video\", https://www.youtube.com/watch?v=VMn-T-FCr9g"
   ]
  },
  {
   "cell_type": "markdown",
   "metadata": {},
   "source": [
    "Let's run a fire and a non_fire video and see how they run"
   ]
  },
  {
   "cell_type": "code",
   "execution_count": 35,
   "metadata": {},
   "outputs": [],
   "source": [
    "def run_video(filename):\n",
    "    cap = cv2.VideoCapture(filename)\n",
    "\n",
    "    while True:\n",
    "        ret, image = cap.read()\n",
    "\n",
    "        # Check if the frame was successfully read\n",
    "        if not ret:\n",
    "            break\n",
    "        \n",
    "            \n",
    "        cv2.putText(image, \"PRESS Q TO EXIT\", (10, 25), cv2.FONT_HERSHEY_SIMPLEX, 1, (0, 0, 255), 2)\n",
    "\n",
    "        # Display the frame\n",
    "        cv2.imshow('framename', image)\n",
    "\n",
    "        # Break the loop if 'q' key is pressed\n",
    "        if cv2.waitKey(25) & 0xFF == ord('q'):\n",
    "            break\n",
    "\n",
    "    cap.release()\n",
    "    cv2.destroyAllWindows()"
   ]
  },
  {
   "cell_type": "code",
   "execution_count": 36,
   "metadata": {},
   "outputs": [],
   "source": [
    "fire_video = os.path.join(test_dataset_path, \"timelapse.mp4\")\n",
    "\n",
    "# PRESS Q TO EXIT VIDEO\n",
    "\n",
    "run_video(fire_video)"
   ]
  },
  {
   "cell_type": "code",
   "execution_count": 9,
   "metadata": {},
   "outputs": [],
   "source": [
    "non_fire_video = os.path.join(test_dataset_path, \"storm_timelapse.mp4\")\n",
    "\n",
    "# PRESS Q TO EXIT VIDEO\n",
    "\n",
    "run_video(non_fire_video)"
   ]
  },
  {
   "cell_type": "markdown",
   "metadata": {},
   "source": [
    "Nice. However, just passing the model through the videos will not be enough to observe if the model is accurate in statistic terms, only with a human visual interpretation.\n",
    "\n",
    "To check statistically, we need to check the percentage of times that the model correctly predicted the presence of fire in the frames of the video. For that, we need to have a label pre-defined for each frame. To do this, we need to split the videos into a sequence of images and label the images accordingly."
   ]
  },
  {
   "cell_type": "markdown",
   "metadata": {},
   "source": [
    "To split the videos into images, we will use ffmpeg (https://ffmpeg.org), which is a command line program. We will run the following command for all videos of the dataset:\n",
    "\n",
    "ffmpeg -i ..\\cloud_forming.mp4 -vf fps=2 out%d.png\n",
    "\n",
    "This line:\n",
    "\n",
    " - forcefully (-vf) converts the .mp4 file into a sequence of .png files, and \n",
    " - obtains 2 .png images per second of video"
   ]
  },
  {
   "cell_type": "markdown",
   "metadata": {},
   "source": [
    "Once all videos are converted, we need to go each frame one at a time and manually label them according to the presence of fire in the frame."
   ]
  },
  {
   "cell_type": "markdown",
   "metadata": {},
   "source": [
    "This was done by doing the filtering and also by deleting any frames that did not have live footage, such as video intros, video outros, black frames, and frames that only consist of the channel label."
   ]
  },
  {
   "cell_type": "markdown",
   "metadata": {},
   "source": [
    "Let's check how it turned out."
   ]
  },
  {
   "cell_type": "code",
   "execution_count": 10,
   "metadata": {},
   "outputs": [
    {
     "data": {
      "text/plain": [
       "['cloud_forming',\n",
       " 'cloud_forming.mp4',\n",
       " 'drone_footage',\n",
       " 'drone_footage.mp4',\n",
       " 'firefighting',\n",
       " 'firefighting.mp4',\n",
       " 'forest_timelapse_2',\n",
       " 'forest_timelapse_2.mp4',\n",
       " 'forest_time_lapse_1',\n",
       " 'forest_time_lapse_1.mp4',\n",
       " 'forest_video',\n",
       " 'forest_video.mp4',\n",
       " 'stock_footage',\n",
       " 'stock_footage.mp4',\n",
       " 'storm_timelapse',\n",
       " 'storm_timelapse.mp4',\n",
       " 'timelapse',\n",
       " 'timelapse.mp4',\n",
       " 'voa_fire',\n",
       " 'voa_fire.mp4']"
      ]
     },
     "execution_count": 10,
     "metadata": {},
     "output_type": "execute_result"
    }
   ],
   "source": [
    "os.listdir(test_dataset_path)"
   ]
  },
  {
   "cell_type": "code",
   "execution_count": 21,
   "metadata": {},
   "outputs": [
    {
     "name": "stdout",
     "output_type": "stream",
     "text": [
      "cloud_forming\\fire_images 0\n",
      "cloud_forming\\non_fire_images 207\n",
      "\n",
      "drone_footage\\fire_images 509\n",
      "drone_footage\\non_fire_images 32\n",
      "\n",
      "firefighting\\fire_images 181\n",
      "firefighting\\non_fire_images 0\n",
      "\n",
      "forest_timelapse_2\\fire_images 0\n",
      "forest_timelapse_2\\non_fire_images 454\n",
      "\n",
      "forest_time_lapse_1\\fire_images 0\n",
      "forest_time_lapse_1\\non_fire_images 248\n",
      "\n",
      "forest_video\\fire_images 0\n",
      "forest_video\\non_fire_images 628\n",
      "\n",
      "stock_footage\\fire_images 50\n",
      "stock_footage\\non_fire_images 0\n",
      "\n",
      "storm_timelapse\\fire_images 0\n",
      "storm_timelapse\\non_fire_images 233\n",
      "\n",
      "timelapse\\fire_images 232\n",
      "timelapse\\non_fire_images 112\n",
      "\n",
      "voa_fire\\fire_images 110\n",
      "voa_fire\\non_fire_images 0\n",
      "\n"
     ]
    }
   ],
   "source": [
    "total_images = 0\n",
    "fire_images = 0\n",
    "non_fire_images = 0\n",
    "\n",
    "for folder in os.listdir(test_dataset_path):\n",
    "    if \".mp4\" in folder:\n",
    "        continue\n",
    "    for label in os.listdir(os.path.join(test_dataset_path, folder)):\n",
    "        count = len(os.listdir(os.path.join(test_dataset_path, folder, label)))\n",
    "        print(folder + \"\\\\\" + label, count)\n",
    "\n",
    "        if label == \"fire_images\":\n",
    "            fire_images += count\n",
    "        else:\n",
    "            non_fire_images += count\n",
    "\n",
    "        total_images += count\n",
    "    print(\"\")"
   ]
  },
  {
   "cell_type": "code",
   "execution_count": 18,
   "metadata": {},
   "outputs": [
    {
     "name": "stdout",
     "output_type": "stream",
     "text": [
      "Total images:  2996\n"
     ]
    }
   ],
   "source": [
    "print(\"Total images: \", total_images)"
   ]
  },
  {
   "cell_type": "code",
   "execution_count": 22,
   "metadata": {},
   "outputs": [
    {
     "data": {
      "application/vnd.plotly.v1+json": {
       "config": {
        "plotlyServerURL": "https://plot.ly"
       },
       "data": [
        {
         "marker": {
          "color": [
           "darkorange",
           "green"
          ]
         },
         "showlegend": false,
         "text": [
          "1082",
          "1914"
         ],
         "type": "bar",
         "x": [
          "fire_images",
          "non_fire_images"
         ],
         "xaxis": "x",
         "y": [
          1082,
          1914
         ],
         "yaxis": "y"
        },
        {
         "domain": {
          "x": [
           0.55,
           1
          ],
          "y": [
           0,
           1
          ]
         },
         "labels": [
          "fire_images",
          "non_fire_images"
         ],
         "marker": {
          "colors": [
           "darkorange",
           "green"
          ]
         },
         "type": "pie",
         "values": [
          1082,
          1914
         ]
        }
       ],
       "layout": {
        "template": {
         "data": {
          "bar": [
           {
            "error_x": {
             "color": "#2a3f5f"
            },
            "error_y": {
             "color": "#2a3f5f"
            },
            "marker": {
             "line": {
              "color": "#E5ECF6",
              "width": 0.5
             },
             "pattern": {
              "fillmode": "overlay",
              "size": 10,
              "solidity": 0.2
             }
            },
            "type": "bar"
           }
          ],
          "barpolar": [
           {
            "marker": {
             "line": {
              "color": "#E5ECF6",
              "width": 0.5
             },
             "pattern": {
              "fillmode": "overlay",
              "size": 10,
              "solidity": 0.2
             }
            },
            "type": "barpolar"
           }
          ],
          "carpet": [
           {
            "aaxis": {
             "endlinecolor": "#2a3f5f",
             "gridcolor": "white",
             "linecolor": "white",
             "minorgridcolor": "white",
             "startlinecolor": "#2a3f5f"
            },
            "baxis": {
             "endlinecolor": "#2a3f5f",
             "gridcolor": "white",
             "linecolor": "white",
             "minorgridcolor": "white",
             "startlinecolor": "#2a3f5f"
            },
            "type": "carpet"
           }
          ],
          "choropleth": [
           {
            "colorbar": {
             "outlinewidth": 0,
             "ticks": ""
            },
            "type": "choropleth"
           }
          ],
          "contour": [
           {
            "colorbar": {
             "outlinewidth": 0,
             "ticks": ""
            },
            "colorscale": [
             [
              0,
              "#0d0887"
             ],
             [
              0.1111111111111111,
              "#46039f"
             ],
             [
              0.2222222222222222,
              "#7201a8"
             ],
             [
              0.3333333333333333,
              "#9c179e"
             ],
             [
              0.4444444444444444,
              "#bd3786"
             ],
             [
              0.5555555555555556,
              "#d8576b"
             ],
             [
              0.6666666666666666,
              "#ed7953"
             ],
             [
              0.7777777777777778,
              "#fb9f3a"
             ],
             [
              0.8888888888888888,
              "#fdca26"
             ],
             [
              1,
              "#f0f921"
             ]
            ],
            "type": "contour"
           }
          ],
          "contourcarpet": [
           {
            "colorbar": {
             "outlinewidth": 0,
             "ticks": ""
            },
            "type": "contourcarpet"
           }
          ],
          "heatmap": [
           {
            "colorbar": {
             "outlinewidth": 0,
             "ticks": ""
            },
            "colorscale": [
             [
              0,
              "#0d0887"
             ],
             [
              0.1111111111111111,
              "#46039f"
             ],
             [
              0.2222222222222222,
              "#7201a8"
             ],
             [
              0.3333333333333333,
              "#9c179e"
             ],
             [
              0.4444444444444444,
              "#bd3786"
             ],
             [
              0.5555555555555556,
              "#d8576b"
             ],
             [
              0.6666666666666666,
              "#ed7953"
             ],
             [
              0.7777777777777778,
              "#fb9f3a"
             ],
             [
              0.8888888888888888,
              "#fdca26"
             ],
             [
              1,
              "#f0f921"
             ]
            ],
            "type": "heatmap"
           }
          ],
          "heatmapgl": [
           {
            "colorbar": {
             "outlinewidth": 0,
             "ticks": ""
            },
            "colorscale": [
             [
              0,
              "#0d0887"
             ],
             [
              0.1111111111111111,
              "#46039f"
             ],
             [
              0.2222222222222222,
              "#7201a8"
             ],
             [
              0.3333333333333333,
              "#9c179e"
             ],
             [
              0.4444444444444444,
              "#bd3786"
             ],
             [
              0.5555555555555556,
              "#d8576b"
             ],
             [
              0.6666666666666666,
              "#ed7953"
             ],
             [
              0.7777777777777778,
              "#fb9f3a"
             ],
             [
              0.8888888888888888,
              "#fdca26"
             ],
             [
              1,
              "#f0f921"
             ]
            ],
            "type": "heatmapgl"
           }
          ],
          "histogram": [
           {
            "marker": {
             "pattern": {
              "fillmode": "overlay",
              "size": 10,
              "solidity": 0.2
             }
            },
            "type": "histogram"
           }
          ],
          "histogram2d": [
           {
            "colorbar": {
             "outlinewidth": 0,
             "ticks": ""
            },
            "colorscale": [
             [
              0,
              "#0d0887"
             ],
             [
              0.1111111111111111,
              "#46039f"
             ],
             [
              0.2222222222222222,
              "#7201a8"
             ],
             [
              0.3333333333333333,
              "#9c179e"
             ],
             [
              0.4444444444444444,
              "#bd3786"
             ],
             [
              0.5555555555555556,
              "#d8576b"
             ],
             [
              0.6666666666666666,
              "#ed7953"
             ],
             [
              0.7777777777777778,
              "#fb9f3a"
             ],
             [
              0.8888888888888888,
              "#fdca26"
             ],
             [
              1,
              "#f0f921"
             ]
            ],
            "type": "histogram2d"
           }
          ],
          "histogram2dcontour": [
           {
            "colorbar": {
             "outlinewidth": 0,
             "ticks": ""
            },
            "colorscale": [
             [
              0,
              "#0d0887"
             ],
             [
              0.1111111111111111,
              "#46039f"
             ],
             [
              0.2222222222222222,
              "#7201a8"
             ],
             [
              0.3333333333333333,
              "#9c179e"
             ],
             [
              0.4444444444444444,
              "#bd3786"
             ],
             [
              0.5555555555555556,
              "#d8576b"
             ],
             [
              0.6666666666666666,
              "#ed7953"
             ],
             [
              0.7777777777777778,
              "#fb9f3a"
             ],
             [
              0.8888888888888888,
              "#fdca26"
             ],
             [
              1,
              "#f0f921"
             ]
            ],
            "type": "histogram2dcontour"
           }
          ],
          "mesh3d": [
           {
            "colorbar": {
             "outlinewidth": 0,
             "ticks": ""
            },
            "type": "mesh3d"
           }
          ],
          "parcoords": [
           {
            "line": {
             "colorbar": {
              "outlinewidth": 0,
              "ticks": ""
             }
            },
            "type": "parcoords"
           }
          ],
          "pie": [
           {
            "automargin": true,
            "type": "pie"
           }
          ],
          "scatter": [
           {
            "fillpattern": {
             "fillmode": "overlay",
             "size": 10,
             "solidity": 0.2
            },
            "type": "scatter"
           }
          ],
          "scatter3d": [
           {
            "line": {
             "colorbar": {
              "outlinewidth": 0,
              "ticks": ""
             }
            },
            "marker": {
             "colorbar": {
              "outlinewidth": 0,
              "ticks": ""
             }
            },
            "type": "scatter3d"
           }
          ],
          "scattercarpet": [
           {
            "marker": {
             "colorbar": {
              "outlinewidth": 0,
              "ticks": ""
             }
            },
            "type": "scattercarpet"
           }
          ],
          "scattergeo": [
           {
            "marker": {
             "colorbar": {
              "outlinewidth": 0,
              "ticks": ""
             }
            },
            "type": "scattergeo"
           }
          ],
          "scattergl": [
           {
            "marker": {
             "colorbar": {
              "outlinewidth": 0,
              "ticks": ""
             }
            },
            "type": "scattergl"
           }
          ],
          "scattermapbox": [
           {
            "marker": {
             "colorbar": {
              "outlinewidth": 0,
              "ticks": ""
             }
            },
            "type": "scattermapbox"
           }
          ],
          "scatterpolar": [
           {
            "marker": {
             "colorbar": {
              "outlinewidth": 0,
              "ticks": ""
             }
            },
            "type": "scatterpolar"
           }
          ],
          "scatterpolargl": [
           {
            "marker": {
             "colorbar": {
              "outlinewidth": 0,
              "ticks": ""
             }
            },
            "type": "scatterpolargl"
           }
          ],
          "scatterternary": [
           {
            "marker": {
             "colorbar": {
              "outlinewidth": 0,
              "ticks": ""
             }
            },
            "type": "scatterternary"
           }
          ],
          "surface": [
           {
            "colorbar": {
             "outlinewidth": 0,
             "ticks": ""
            },
            "colorscale": [
             [
              0,
              "#0d0887"
             ],
             [
              0.1111111111111111,
              "#46039f"
             ],
             [
              0.2222222222222222,
              "#7201a8"
             ],
             [
              0.3333333333333333,
              "#9c179e"
             ],
             [
              0.4444444444444444,
              "#bd3786"
             ],
             [
              0.5555555555555556,
              "#d8576b"
             ],
             [
              0.6666666666666666,
              "#ed7953"
             ],
             [
              0.7777777777777778,
              "#fb9f3a"
             ],
             [
              0.8888888888888888,
              "#fdca26"
             ],
             [
              1,
              "#f0f921"
             ]
            ],
            "type": "surface"
           }
          ],
          "table": [
           {
            "cells": {
             "fill": {
              "color": "#EBF0F8"
             },
             "line": {
              "color": "white"
             }
            },
            "header": {
             "fill": {
              "color": "#C8D4E3"
             },
             "line": {
              "color": "white"
             }
            },
            "type": "table"
           }
          ]
         },
         "layout": {
          "annotationdefaults": {
           "arrowcolor": "#2a3f5f",
           "arrowhead": 0,
           "arrowwidth": 1
          },
          "autotypenumbers": "strict",
          "coloraxis": {
           "colorbar": {
            "outlinewidth": 0,
            "ticks": ""
           }
          },
          "colorscale": {
           "diverging": [
            [
             0,
             "#8e0152"
            ],
            [
             0.1,
             "#c51b7d"
            ],
            [
             0.2,
             "#de77ae"
            ],
            [
             0.3,
             "#f1b6da"
            ],
            [
             0.4,
             "#fde0ef"
            ],
            [
             0.5,
             "#f7f7f7"
            ],
            [
             0.6,
             "#e6f5d0"
            ],
            [
             0.7,
             "#b8e186"
            ],
            [
             0.8,
             "#7fbc41"
            ],
            [
             0.9,
             "#4d9221"
            ],
            [
             1,
             "#276419"
            ]
           ],
           "sequential": [
            [
             0,
             "#0d0887"
            ],
            [
             0.1111111111111111,
             "#46039f"
            ],
            [
             0.2222222222222222,
             "#7201a8"
            ],
            [
             0.3333333333333333,
             "#9c179e"
            ],
            [
             0.4444444444444444,
             "#bd3786"
            ],
            [
             0.5555555555555556,
             "#d8576b"
            ],
            [
             0.6666666666666666,
             "#ed7953"
            ],
            [
             0.7777777777777778,
             "#fb9f3a"
            ],
            [
             0.8888888888888888,
             "#fdca26"
            ],
            [
             1,
             "#f0f921"
            ]
           ],
           "sequentialminus": [
            [
             0,
             "#0d0887"
            ],
            [
             0.1111111111111111,
             "#46039f"
            ],
            [
             0.2222222222222222,
             "#7201a8"
            ],
            [
             0.3333333333333333,
             "#9c179e"
            ],
            [
             0.4444444444444444,
             "#bd3786"
            ],
            [
             0.5555555555555556,
             "#d8576b"
            ],
            [
             0.6666666666666666,
             "#ed7953"
            ],
            [
             0.7777777777777778,
             "#fb9f3a"
            ],
            [
             0.8888888888888888,
             "#fdca26"
            ],
            [
             1,
             "#f0f921"
            ]
           ]
          },
          "colorway": [
           "#636efa",
           "#EF553B",
           "#00cc96",
           "#ab63fa",
           "#FFA15A",
           "#19d3f3",
           "#FF6692",
           "#B6E880",
           "#FF97FF",
           "#FECB52"
          ],
          "font": {
           "color": "#2a3f5f"
          },
          "geo": {
           "bgcolor": "white",
           "lakecolor": "white",
           "landcolor": "#E5ECF6",
           "showlakes": true,
           "showland": true,
           "subunitcolor": "white"
          },
          "hoverlabel": {
           "align": "left"
          },
          "hovermode": "closest",
          "mapbox": {
           "style": "light"
          },
          "paper_bgcolor": "white",
          "plot_bgcolor": "#E5ECF6",
          "polar": {
           "angularaxis": {
            "gridcolor": "white",
            "linecolor": "white",
            "ticks": ""
           },
           "bgcolor": "#E5ECF6",
           "radialaxis": {
            "gridcolor": "white",
            "linecolor": "white",
            "ticks": ""
           }
          },
          "scene": {
           "xaxis": {
            "backgroundcolor": "#E5ECF6",
            "gridcolor": "white",
            "gridwidth": 2,
            "linecolor": "white",
            "showbackground": true,
            "ticks": "",
            "zerolinecolor": "white"
           },
           "yaxis": {
            "backgroundcolor": "#E5ECF6",
            "gridcolor": "white",
            "gridwidth": 2,
            "linecolor": "white",
            "showbackground": true,
            "ticks": "",
            "zerolinecolor": "white"
           },
           "zaxis": {
            "backgroundcolor": "#E5ECF6",
            "gridcolor": "white",
            "gridwidth": 2,
            "linecolor": "white",
            "showbackground": true,
            "ticks": "",
            "zerolinecolor": "white"
           }
          },
          "shapedefaults": {
           "line": {
            "color": "#2a3f5f"
           }
          },
          "ternary": {
           "aaxis": {
            "gridcolor": "white",
            "linecolor": "white",
            "ticks": ""
           },
           "baxis": {
            "gridcolor": "white",
            "linecolor": "white",
            "ticks": ""
           },
           "bgcolor": "#E5ECF6",
           "caxis": {
            "gridcolor": "white",
            "linecolor": "white",
            "ticks": ""
           }
          },
          "title": {
           "x": 0.05
          },
          "xaxis": {
           "automargin": true,
           "gridcolor": "white",
           "linecolor": "white",
           "ticks": "",
           "title": {
            "standoff": 15
           },
           "zerolinecolor": "white",
           "zerolinewidth": 2
          },
          "yaxis": {
           "automargin": true,
           "gridcolor": "white",
           "linecolor": "white",
           "ticks": "",
           "title": {
            "standoff": 15
           },
           "zerolinecolor": "white",
           "zerolinewidth": 2
          }
         }
        },
        "xaxis": {
         "anchor": "y",
         "domain": [
          0,
          0.45
         ]
        },
        "yaxis": {
         "anchor": "x",
         "domain": [
          0,
          1
         ]
        }
       }
      }
     },
     "metadata": {},
     "output_type": "display_data"
    }
   ],
   "source": [
    "labels = [\"fire_images\", \"non_fire_images\"]\n",
    "counts = [fire_images, non_fire_images]\n",
    "\n",
    "fig = make_subplots(rows=1, cols=2, specs=[[{\"type\": \"xy\"}, {\"type\": \"pie\"}]])\n",
    "\n",
    "bar_trace = go.Bar(\n",
    "    x = labels,\n",
    "    y = counts,\n",
    "    marker_color = ['darkorange','green'],\n",
    "    text = [str(count) for count in counts],\n",
    "    showlegend = False)\n",
    "\n",
    "fig.add_trace(bar_trace,row=1,col=1)\n",
    "\n",
    "fig.add_trace(go.Pie(\n",
    "     values = counts,\n",
    "     labels=labels,\n",
    "    marker=dict(colors=['darkorange','green'])),\n",
    "    row=1, col=2)"
   ]
  },
  {
   "cell_type": "markdown",
   "metadata": {},
   "source": [
    "2 times more non-fire images than fire images. This dataset can even be used for an overall initial evaluation based only on the images, before evaluating based on video prediction accuracy."
   ]
  },
  {
   "cell_type": "markdown",
   "metadata": {},
   "source": [
    "Let's also add these images to an overall testing dataset to calculate initial metrics."
   ]
  },
  {
   "cell_type": "code",
   "execution_count": 25,
   "metadata": {},
   "outputs": [],
   "source": [
    "import shutil"
   ]
  },
  {
   "cell_type": "code",
   "execution_count": 23,
   "metadata": {},
   "outputs": [],
   "source": [
    "overall_test_path = os.path.join(base_path, \"test dataset\")\n",
    "os.makedirs(overall_test_path, exist_ok=True)"
   ]
  },
  {
   "cell_type": "code",
   "execution_count": 27,
   "metadata": {},
   "outputs": [],
   "source": [
    "fire_overall_test_path = os.path.join(overall_test_path, \"fire_images\")\n",
    "os.makedirs(fire_overall_test_path, exist_ok=True)\n",
    "\n",
    "non_fire_overall_test_path = os.path.join(overall_test_path, \"non_fire_images\")\n",
    "os.makedirs(non_fire_overall_test_path, exist_ok=True)"
   ]
  },
  {
   "cell_type": "markdown",
   "metadata": {},
   "source": [
    "Might make sense to rename the files before copying, since all images have the format \"out%d\" from the ffmpeg output."
   ]
  },
  {
   "cell_type": "code",
   "execution_count": 30,
   "metadata": {},
   "outputs": [],
   "source": [
    "for idx, folder in enumerate(os.listdir(test_dataset_path)):\n",
    "    if \".mp4\" in folder:\n",
    "        continue\n",
    "    for label in os.listdir(os.path.join(test_dataset_path, folder)):\n",
    "        for filename in os.listdir(os.path.join(test_dataset_path, folder, label)):\n",
    "            full_file_path = os.path.join(test_dataset_path, folder, label, filename)\n",
    "            new_file_name = os.path.join(test_dataset_path, folder, label, str(idx) + filename)\n",
    "            os.rename(full_file_path,  new_file_name)\n",
    "            if label == \"fire_images\":\n",
    "                shutil.copy2(new_file_name, fire_overall_test_path)\n",
    "            else:\n",
    "                shutil.copy2(new_file_name, non_fire_overall_test_path)"
   ]
  },
  {
   "cell_type": "code",
   "execution_count": 32,
   "metadata": {},
   "outputs": [
    {
     "name": "stdout",
     "output_type": "stream",
     "text": [
      "0\n",
      "1082\n",
      "1914\n"
     ]
    }
   ],
   "source": [
    "for dirname, _, filenames in os.walk(overall_test_path):\n",
    "    print(len(filenames))"
   ]
  },
  {
   "cell_type": "markdown",
   "metadata": {},
   "source": [
    "Nice, it worked. Now we have an overall testing dataset and a video testing dataset."
   ]
  },
  {
   "cell_type": "markdown",
   "metadata": {},
   "source": [
    "Now we are ready to start creating models!"
   ]
  }
 ],
 "metadata": {
  "kernelspec": {
   "display_name": "Python 3",
   "language": "python",
   "name": "python3"
  },
  "language_info": {
   "codemirror_mode": {
    "name": "ipython",
    "version": 3
   },
   "file_extension": ".py",
   "mimetype": "text/x-python",
   "name": "python",
   "nbconvert_exporter": "python",
   "pygments_lexer": "ipython3",
   "version": "3.11.5"
  }
 },
 "nbformat": 4,
 "nbformat_minor": 2
}

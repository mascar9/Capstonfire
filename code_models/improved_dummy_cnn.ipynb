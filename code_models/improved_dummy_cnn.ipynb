{
 "cells": [
  {
   "cell_type": "code",
   "execution_count": 1,
   "metadata": {},
   "outputs": [],
   "source": [
    "import os"
   ]
  },
  {
   "cell_type": "code",
   "execution_count": 2,
   "metadata": {},
   "outputs": [],
   "source": [
    "base_path = \"C:\\\\Users\\\\johnn\\\\Desktop\\\\Repos\\\\Capstonfire\""
   ]
  },
  {
   "cell_type": "markdown",
   "metadata": {},
   "source": [
    "# Improving the model - Adding more data"
   ]
  },
  {
   "cell_type": "markdown",
   "metadata": {},
   "source": [
    "As we saw in the experiments with the first model, the main problems with the current model is that there are not enough different situations that allow the model to consider confounding images, e.g. clouds, as non fire images. We also saw that changing the optimizer to a more complex one (Adam) and decreasing the size of the images of the FIRE Dataset made the previsions worse."
   ]
  },
  {
   "cell_type": "markdown",
   "metadata": {},
   "source": [
    "This establishes the main objective for the next models:\n",
    "\n",
    "- Train models with more images"
   ]
  },
  {
   "cell_type": "markdown",
   "metadata": {},
   "source": [
    "For this, we will use the dataset that comprises the images of the FIRE dataset and of the Forest Fire dataset. We will then try training with the two datasets and The Wildfire Dataset and see how the model improves."
   ]
  },
  {
   "cell_type": "markdown",
   "metadata": {},
   "source": [
    "Since compressing the size of the images of the FIRE dataset made previsions worse, we will start by adding the original images to the composed datasets."
   ]
  },
  {
   "cell_type": "code",
   "execution_count": 3,
   "metadata": {},
   "outputs": [],
   "source": [
    "# We will call the FIRE + Forest Fire dataset the 3 F's dataset to make naming easier\n",
    "fire_forest_fire_dataset_path = os.path.join(base_path, \"new_fire_forest_fire_datasets\")"
   ]
  },
  {
   "cell_type": "code",
   "execution_count": 4,
   "metadata": {},
   "outputs": [],
   "source": [
    "three_f_fire_path = os.path.join(fire_forest_fire_dataset_path, \"fire_images\")\n",
    "os.makedirs(three_f_fire_path, exist_ok=True)\n",
    "\n",
    "three_f_non_fire_path = os.path.join(fire_forest_fire_dataset_path, \"non_fire_images\")\n",
    "os.makedirs(three_f_non_fire_path)"
   ]
  },
  {
   "cell_type": "code",
   "execution_count": 5,
   "metadata": {},
   "outputs": [],
   "source": [
    "import shutil"
   ]
  },
  {
   "cell_type": "code",
   "execution_count": 7,
   "metadata": {},
   "outputs": [],
   "source": [
    "fire_dataset_fire_path = os.path.join(base_path, \"FIRE Dataset\", \"fire_images\")\n",
    "for filename in os.listdir(fire_dataset_fire_path):\n",
    "    shutil.copy2(os.path.join(fire_dataset_fire_path, filename), three_f_fire_path)\n",
    "\n",
    "fire_dataset_non_fire_path = os.path.join(base_path, \"FIRE Dataset\", \"non_fire_images\")\n",
    "for filename in os.listdir(fire_dataset_non_fire_path):\n",
    "    shutil.copy2(os.path.join(fire_dataset_non_fire_path, filename), three_f_non_fire_path)"
   ]
  },
  {
   "cell_type": "code",
   "execution_count": 9,
   "metadata": {},
   "outputs": [],
   "source": [
    "forest_fire_dataset_fire_path = os.path.join(base_path, \"Forest Fire Dataset\", \"fire_images\")\n",
    "for filename in os.listdir(forest_fire_dataset_fire_path):\n",
    "    shutil.copy2(os.path.join(forest_fire_dataset_fire_path, filename), three_f_fire_path)\n",
    "\n",
    "forest_fire_dataset_non_fire_path = os.path.join(base_path, \"Forest Fire Dataset\", \"non_fire_images\")\n",
    "for filename in os.listdir(forest_fire_dataset_non_fire_path):\n",
    "    shutil.copy2(os.path.join(forest_fire_dataset_non_fire_path, filename), three_f_non_fire_path)"
   ]
  },
  {
   "cell_type": "code",
   "execution_count": 10,
   "metadata": {},
   "outputs": [],
   "source": [
    "full_dataset_path = os.path.join(base_path, \"new_full_dataset\")"
   ]
  },
  {
   "cell_type": "code",
   "execution_count": 11,
   "metadata": {},
   "outputs": [],
   "source": [
    "full_dataset_fire_path = os.path.join(full_dataset_path, \"fire_images\")\n",
    "os.makedirs(full_dataset_fire_path, exist_ok=True)\n",
    "\n",
    "full_dataset_non_fire_path = os.path.join(full_dataset_path, \"non_fire_images\")\n",
    "os.makedirs(full_dataset_non_fire_path)"
   ]
  },
  {
   "cell_type": "code",
   "execution_count": 12,
   "metadata": {},
   "outputs": [],
   "source": [
    "for filename in os.listdir(fire_dataset_fire_path):\n",
    "    shutil.copy2(os.path.join(fire_dataset_fire_path, filename), full_dataset_fire_path)\n",
    "\n",
    "for filename in os.listdir(fire_dataset_non_fire_path):\n",
    "    shutil.copy2(os.path.join(fire_dataset_non_fire_path, filename), full_dataset_non_fire_path)"
   ]
  },
  {
   "cell_type": "code",
   "execution_count": 13,
   "metadata": {},
   "outputs": [],
   "source": [
    "for filename in os.listdir(forest_fire_dataset_fire_path):\n",
    "    shutil.copy2(os.path.join(forest_fire_dataset_fire_path, filename), full_dataset_fire_path)\n",
    "\n",
    "for filename in os.listdir(forest_fire_dataset_non_fire_path):\n",
    "    shutil.copy2(os.path.join(forest_fire_dataset_non_fire_path, filename), full_dataset_non_fire_path)"
   ]
  },
  {
   "cell_type": "code",
   "execution_count": 14,
   "metadata": {},
   "outputs": [],
   "source": [
    "wildfire_dataset_fire_path = os.path.join(base_path, \"wildfire_dataset\", \"fire_images\")\n",
    "for filename in os.listdir(wildfire_dataset_fire_path):\n",
    "    shutil.copy2(os.path.join(wildfire_dataset_fire_path, filename), full_dataset_fire_path)\n",
    "\n",
    "wildfire_dataset_non_fire_path = os.path.join(base_path, \"wildfire_dataset\", \"non_fire_images\")\n",
    "for filename in os.listdir(wildfire_dataset_non_fire_path):\n",
    "    shutil.copy2(os.path.join(wildfire_dataset_non_fire_path, filename), full_dataset_non_fire_path)"
   ]
  },
  {
   "cell_type": "markdown",
   "metadata": {},
   "source": [
    "Done. The Wildfire Dataset is still compressed to save size and avoid having the model take too long to analyse large images.\n",
    "\n",
    "Let's start training."
   ]
  },
  {
   "cell_type": "code",
   "execution_count": 24,
   "metadata": {},
   "outputs": [],
   "source": [
    "import os\n",
    "from capstonfire_utils import plot_loss, plot_accuracy, FireDataset, split_dataset_into_dataloaders, train_model, calculate_metrics, run_video\n",
    "\n",
    "import torch\n",
    "import torch.nn as nn\n",
    "import torch.optim as optim\n",
    "import torch.nn.functional as F\n",
    "import torch.optim as optim\n",
    "from torch.utils.data import DataLoader\n",
    "\n",
    "import torchvision.transforms as transforms\n",
    "import torchsummary\n",
    "\n",
    "from torchviz import make_dot\n",
    "\n",
    "base_path = \"C:\\\\Users\\\\johnn\\\\Desktop\\\\Repos\\\\Capstonfire\"\n",
    "fire_forest_fire_dataset_path = os.path.join(base_path, \"new_fire_forest_fire_datasets\")"
   ]
  },
  {
   "cell_type": "code",
   "execution_count": 25,
   "metadata": {},
   "outputs": [],
   "source": [
    "three_f_transform = transforms.Compose([\n",
    "    transforms.Resize((256, 256)),\n",
    "    transforms.ToTensor()\n",
    "])"
   ]
  },
  {
   "cell_type": "code",
   "execution_count": 26,
   "metadata": {},
   "outputs": [],
   "source": [
    "three_f_dataset = FireDataset(fire_forest_fire_dataset_path, three_f_transform)"
   ]
  },
  {
   "cell_type": "code",
   "execution_count": 27,
   "metadata": {},
   "outputs": [],
   "source": [
    "three_f_train_loader, three_f_val_loader, three_f_test_loader = split_dataset_into_dataloaders(three_f_dataset, 50, 0.7, 0.2, 0.1)"
   ]
  },
  {
   "cell_type": "code",
   "execution_count": 28,
   "metadata": {},
   "outputs": [
    {
     "data": {
      "text/plain": [
       "4218"
      ]
     },
     "execution_count": 28,
     "metadata": {},
     "output_type": "execute_result"
    }
   ],
   "source": [
    "len(three_f_train_loader.dataset) + len(three_f_val_loader.dataset) + len(three_f_test_loader.dataset)"
   ]
  },
  {
   "cell_type": "code",
   "execution_count": 29,
   "metadata": {},
   "outputs": [],
   "source": [
    "class SimpleCNN(nn.Module):\n",
    "    def __init__(self):\n",
    "        super(SimpleCNN, self).__init__()\n",
    "        self.conv1 = nn.Conv2d(3, 10, kernel_size=5) # to capture basic patterns from the image\n",
    "        self.conv2 = nn.Conv2d(10, 20, kernel_size=5)# to capture basic patterns from the previous patterns (results in capturing more complex patterns from the original image)\n",
    "        self.fc1 = nn.Linear(74420, 50)\n",
    "        self.fc2 = nn.Linear(50, 2) # DNN > WNN; also 2 classes\n",
    "\n",
    "    def forward(self, x):\n",
    "        x = F.relu(F.max_pool2d(self.conv1(x), 2))\n",
    "        x = F.relu(F.max_pool2d(self.conv2(x), 2))\n",
    "        x = x.view(-1, 74420)\n",
    "        x = F.relu(self.fc1(x))\n",
    "        x = self.fc2(x)\n",
    "        #return F.log_softmax(x, dim=1)\n",
    "        return x\n",
    "\n",
    "three_f_model = SimpleCNN()"
   ]
  },
  {
   "cell_type": "code",
   "execution_count": 30,
   "metadata": {},
   "outputs": [
    {
     "name": "stdout",
     "output_type": "stream",
     "text": [
      "----------------------------------------------------------------\n",
      "        Layer (type)               Output Shape         Param #\n",
      "================================================================\n",
      "            Conv2d-1         [-1, 10, 252, 252]             760\n",
      "            Conv2d-2         [-1, 20, 122, 122]           5,020\n",
      "            Linear-3                   [-1, 50]       3,721,050\n",
      "            Linear-4                    [-1, 2]             102\n",
      "================================================================\n",
      "Total params: 3,726,932\n",
      "Trainable params: 3,726,932\n",
      "Non-trainable params: 0\n",
      "----------------------------------------------------------------\n",
      "Input size (MB): 0.75\n",
      "Forward/backward pass size (MB): 7.12\n",
      "Params size (MB): 14.22\n",
      "Estimated Total Size (MB): 22.08\n",
      "----------------------------------------------------------------\n"
     ]
    }
   ],
   "source": [
    "torchsummary.summary(model=three_f_model, input_size=(3, 256, 256), device=\"cpu\")"
   ]
  },
  {
   "cell_type": "code",
   "execution_count": 31,
   "metadata": {},
   "outputs": [],
   "source": [
    "three_f_model_name = \"dummy_cnn_two_datasets\""
   ]
  },
  {
   "cell_type": "code",
   "execution_count": 32,
   "metadata": {},
   "outputs": [
    {
     "data": {
      "text/plain": [
       "'model details\\\\dummy_cnn_two_datasets-model_visualization.png'"
      ]
     },
     "execution_count": 32,
     "metadata": {},
     "output_type": "execute_result"
    }
   ],
   "source": [
    "x = torch.randn(50, 3, 256, 256)  # A dummy input tensor to pass through the model\n",
    "y = three_f_model(x)\n",
    "\n",
    "dot = make_dot(y, params=dict(list(three_f_model.named_parameters()) + [('x', x)]))\n",
    "dot.render('model details/' + three_f_model_name + '-model_visualization', format='png')"
   ]
  },
  {
   "cell_type": "code",
   "execution_count": 33,
   "metadata": {},
   "outputs": [],
   "source": [
    "criterion = nn.CrossEntropyLoss()\n",
    "optimizer = optim.SGD(three_f_model.parameters(), lr=0.0003, momentum=0.9)"
   ]
  },
  {
   "cell_type": "code",
   "execution_count": 34,
   "metadata": {},
   "outputs": [
    {
     "name": "stdout",
     "output_type": "stream",
     "text": [
      "CUDA is available. Using GPU.\n"
     ]
    },
    {
     "data": {
      "application/vnd.jupyter.widget-view+json": {
       "model_id": "8cc318ccd8b9447a9a8ab00dae99af68",
       "version_major": 2,
       "version_minor": 0
      },
      "text/plain": [
       "  0%|          | 0/20 [00:00<?, ?it/s]"
      ]
     },
     "metadata": {},
     "output_type": "display_data"
    },
    {
     "name": "stdout",
     "output_type": "stream",
     "text": [
      "Epoch [1/20], Train Loss: 0.6696, Train Accuracy: 0.5767, Validation Loss: 0.6584, Validation Accuracy: 0.5367\n",
      "Epoch [2/20], Train Loss: 0.6102, Train Accuracy: 0.6295, Validation Loss: 0.5642, Validation Accuracy: 0.7287\n",
      "Epoch [3/20], Train Loss: 0.5082, Train Accuracy: 0.7294, Validation Loss: 0.4660, Validation Accuracy: 0.7382\n",
      "Epoch [4/20], Train Loss: 0.4330, Train Accuracy: 0.7867, Validation Loss: 0.4240, Validation Accuracy: 0.8128\n",
      "Epoch [5/20], Train Loss: 0.3706, Train Accuracy: 0.8324, Validation Loss: 0.3310, Validation Accuracy: 0.8649\n",
      "Epoch [6/20], Train Loss: 0.3352, Train Accuracy: 0.8517, Validation Loss: 0.2983, Validation Accuracy: 0.8827\n",
      "Epoch [7/20], Train Loss: 0.3016, Train Accuracy: 0.8784, Validation Loss: 0.3276, Validation Accuracy: 0.8720\n",
      "Epoch [8/20], Train Loss: 0.2741, Train Accuracy: 0.8886, Validation Loss: 0.2408, Validation Accuracy: 0.9147\n",
      "Epoch [9/20], Train Loss: 0.2411, Train Accuracy: 0.9092, Validation Loss: 0.2151, Validation Accuracy: 0.9348\n",
      "Epoch [10/20], Train Loss: 0.2179, Train Accuracy: 0.9164, Validation Loss: 0.1912, Validation Accuracy: 0.9336\n",
      "Epoch [11/20], Train Loss: 0.2027, Train Accuracy: 0.9228, Validation Loss: 0.1978, Validation Accuracy: 0.9206\n",
      "Epoch [12/20], Train Loss: 0.1995, Train Accuracy: 0.9231, Validation Loss: 0.1692, Validation Accuracy: 0.9372\n",
      "Epoch [13/20], Train Loss: 0.1718, Train Accuracy: 0.9374, Validation Loss: 0.1485, Validation Accuracy: 0.9538\n",
      "Epoch [14/20], Train Loss: 0.1736, Train Accuracy: 0.9336, Validation Loss: 0.2953, Validation Accuracy: 0.8827\n",
      "Epoch [15/20], Train Loss: 0.1932, Train Accuracy: 0.9218, Validation Loss: 0.1328, Validation Accuracy: 0.9550\n",
      "Epoch [16/20], Train Loss: 0.1626, Train Accuracy: 0.9414, Validation Loss: 0.1280, Validation Accuracy: 0.9550\n",
      "Epoch [17/20], Train Loss: 0.1499, Train Accuracy: 0.9421, Validation Loss: 0.1246, Validation Accuracy: 0.9538\n",
      "Epoch [18/20], Train Loss: 0.1391, Train Accuracy: 0.9509, Validation Loss: 0.2041, Validation Accuracy: 0.9123\n",
      "Epoch [19/20], Train Loss: 0.1637, Train Accuracy: 0.9424, Validation Loss: 0.1584, Validation Accuracy: 0.9419\n",
      "Epoch [20/20], Train Loss: 0.1362, Train Accuracy: 0.9519, Validation Loss: 0.1626, Validation Accuracy: 0.9360\n",
      "Finished Training\n"
     ]
    }
   ],
   "source": [
    "three_f_history = train_model(three_f_model, criterion, optimizer, base_path, three_f_model_name, 20, three_f_train_loader, three_f_val_loader)"
   ]
  },
  {
   "cell_type": "code",
   "execution_count": 35,
   "metadata": {},
   "outputs": [
    {
     "data": {
      "image/png": "[encoded data removed]",
      "text/plain": [
       "<Figure size 640x480 with 1 Axes>"
      ]
     },
     "metadata": {},
     "output_type": "display_data"
    }
   ],
   "source": [
    "plot_loss(three_f_history[\"avg_train_loss_list\"], three_f_history[\"avg_val_loss_list\"])"
   ]
  },
  {
   "cell_type": "code",
   "execution_count": 36,
   "metadata": {},
   "outputs": [
    {
     "data": {
      "image/png": "[encoded data removed]",
      "text/plain": [
       "<Figure size 640x480 with 1 Axes>"
      ]
     },
     "metadata": {},
     "output_type": "display_data"
    }
   ],
   "source": [
    "plot_accuracy(three_f_history[\"train_accuracy_list\"], three_f_history[\"val_accuracy_list\"])"
   ]
  },
  {
   "cell_type": "code",
   "execution_count": 37,
   "metadata": {},
   "outputs": [
    {
     "name": "stdout",
     "output_type": "stream",
     "text": [
      "CUDA is available. Using GPU.\n"
     ]
    },
    {
     "data": {
      "application/vnd.jupyter.widget-view+json": {
       "model_id": "60be1f709f494d0385d326639e8a994b",
       "version_major": 2,
       "version_minor": 0
      },
      "text/plain": [
       "  0%|          | 0/60 [00:00<?, ?it/s]"
      ]
     },
     "metadata": {},
     "output_type": "display_data"
    },
    {
     "name": "stdout",
     "output_type": "stream",
     "text": [
      "Recall on the test set: 0.63\n",
      "Precision on the test set: 0.63\n",
      "F1 Score on the test set: 0.63\n"
     ]
    }
   ],
   "source": [
    "custom_test_loader = DataLoader(FireDataset(os.path.join(base_path, \"test dataset\"), three_f_transform), 50, False)\n",
    "\n",
    "calculate_metrics(three_f_model, custom_test_loader)"
   ]
  },
  {
   "cell_type": "markdown",
   "metadata": {},
   "source": [
    "Let's compare with the first model:"
   ]
  },
  {
   "cell_type": "code",
   "execution_count": 40,
   "metadata": {},
   "outputs": [
    {
     "name": "stdout",
     "output_type": "stream",
     "text": [
      "CUDA is available. Using GPU.\n"
     ]
    }
   ],
   "source": [
    "model_name = \"dummy_cnn\"\n",
    "first_model = SimpleCNN()\n",
    "first_history = train_model(first_model, criterion, optimizer, base_path, model_name, 20, three_f_train_loader, three_f_val_loader)"
   ]
  },
  {
   "cell_type": "code",
   "execution_count": 44,
   "metadata": {},
   "outputs": [
    {
     "data": {
      "image/png": "[encoded data removed]",
      "text/plain": [
       "<Figure size 640x480 with 1 Axes>"
      ]
     },
     "metadata": {},
     "output_type": "display_data"
    }
   ],
   "source": [
    "plot_loss(first_history[\"avg_train_loss_list\"], first_history[\"avg_val_loss_list\"])"
   ]
  },
  {
   "cell_type": "code",
   "execution_count": 45,
   "metadata": {},
   "outputs": [
    {
     "data": {
      "image/png": "[encoded data removed]",
      "text/plain": [
       "<Figure size 640x480 with 1 Axes>"
      ]
     },
     "metadata": {},
     "output_type": "display_data"
    }
   ],
   "source": [
    "plot_accuracy(first_history[\"train_accuracy_list\"], first_history[\"val_accuracy_list\"])"
   ]
  },
  {
   "cell_type": "code",
   "execution_count": 43,
   "metadata": {},
   "outputs": [
    {
     "name": "stdout",
     "output_type": "stream",
     "text": [
      "CUDA is available. Using GPU.\n"
     ]
    },
    {
     "data": {
      "application/vnd.jupyter.widget-view+json": {
       "model_id": "827493e1d2144aa18bff78bd160b232e",
       "version_major": 2,
       "version_minor": 0
      },
      "text/plain": [
       "  0%|          | 0/60 [00:00<?, ?it/s]"
      ]
     },
     "metadata": {},
     "output_type": "display_data"
    },
    {
     "name": "stdout",
     "output_type": "stream",
     "text": [
      "Recall on the test set: 0.75\n",
      "Precision on the test set: 0.75\n",
      "F1 Score on the test set: 0.75\n"
     ]
    }
   ],
   "source": [
    "calculate_metrics(first_model, custom_test_loader)"
   ]
  },
  {
   "cell_type": "markdown",
   "metadata": {},
   "source": [
    "Looks like it got worse. The loss is lower and the training/validation accuracy is better, which means that the model probaby overfitted. Let's train again but before the loss starts to stagnate, which was at about 12 epochs."
   ]
  },
  {
   "cell_type": "code",
   "execution_count": 57,
   "metadata": {},
   "outputs": [
    {
     "name": "stdout",
     "output_type": "stream",
     "text": [
      "CUDA is available. Using GPU.\n"
     ]
    }
   ],
   "source": [
    "three_f_model_name = \"dummy_cnn_two_datasets_12\"\n",
    "three_f_model_12 = SimpleCNN()\n",
    "\n",
    "criterion = nn.CrossEntropyLoss()\n",
    "optimizer = optim.SGD(three_f_model_12.parameters(), lr=0.0003, momentum=0.9)\n",
    "\n",
    "three_f_12_history = train_model(three_f_model_12, criterion, optimizer, base_path, three_f_model_name, 12, three_f_train_loader, three_f_val_loader)"
   ]
  },
  {
   "cell_type": "code",
   "execution_count": 58,
   "metadata": {},
   "outputs": [
    {
     "data": {
      "image/png": "[encoded data removed]",
      "text/plain": [
       "<Figure size 640x480 with 1 Axes>"
      ]
     },
     "metadata": {},
     "output_type": "display_data"
    }
   ],
   "source": [
    "plot_loss(three_f_12_history[\"avg_train_loss_list\"], three_f_12_history[\"avg_val_loss_list\"])"
   ]
  },
  {
   "cell_type": "code",
   "execution_count": 59,
   "metadata": {},
   "outputs": [
    {
     "data": {
      "image/png": "[encoded data removed]",
      "text/plain": [
       "<Figure size 640x480 with 1 Axes>"
      ]
     },
     "metadata": {},
     "output_type": "display_data"
    }
   ],
   "source": [
    "plot_accuracy(three_f_12_history[\"train_accuracy_list\"], three_f_12_history[\"val_accuracy_list\"])"
   ]
  },
  {
   "cell_type": "code",
   "execution_count": 60,
   "metadata": {},
   "outputs": [
    {
     "name": "stdout",
     "output_type": "stream",
     "text": [
      "CUDA is available. Using GPU.\n"
     ]
    },
    {
     "data": {
      "application/vnd.jupyter.widget-view+json": {
       "model_id": "24d5b45774f040169e7a6a803e1a1426",
       "version_major": 2,
       "version_minor": 0
      },
      "text/plain": [
       "  0%|          | 0/60 [00:00<?, ?it/s]"
      ]
     },
     "metadata": {},
     "output_type": "display_data"
    },
    {
     "name": "stdout",
     "output_type": "stream",
     "text": [
      "Recall on the test set: 0.47\n",
      "Precision on the test set: 0.47\n",
      "F1 Score on the test set: 0.47\n"
     ]
    }
   ],
   "source": [
    "calculate_metrics(three_f_model_12, custom_test_loader)"
   ]
  },
  {
   "cell_type": "markdown",
   "metadata": {},
   "source": [
    "Hmm wow, so the dataset did not overfit. But training more than 20 epochs seems like it would not make much of a difference. What if we train the first model with only the FIRE Dataset with more epochs, what would be the metrics then?"
   ]
  },
  {
   "cell_type": "code",
   "execution_count": 62,
   "metadata": {},
   "outputs": [
    {
     "name": "stdout",
     "output_type": "stream",
     "text": [
      "CUDA is available. Using GPU.\n"
     ]
    },
    {
     "data": {
      "application/vnd.jupyter.widget-view+json": {
       "model_id": "b33b528d46b641dbb2eea2c5c51511be",
       "version_major": 2,
       "version_minor": 0
      },
      "text/plain": [
       "  0%|          | 0/30 [00:00<?, ?it/s]"
      ]
     },
     "metadata": {},
     "output_type": "display_data"
    },
    {
     "name": "stdout",
     "output_type": "stream",
     "text": [
      "Epoch [1/30], Train Loss: 0.7280, Train Accuracy: 0.2414, Validation Loss: 0.6977, Validation Accuracy: 0.4000\n",
      "Epoch [2/30], Train Loss: 0.6640, Train Accuracy: 0.6771, Validation Loss: 0.6173, Validation Accuracy: 0.7700\n",
      "Epoch [3/30], Train Loss: 0.5976, Train Accuracy: 0.7586, Validation Loss: 0.5568, Validation Accuracy: 0.7700\n",
      "Epoch [4/30], Train Loss: 0.5617, Train Accuracy: 0.7586, Validation Loss: 0.5406, Validation Accuracy: 0.7700\n",
      "Epoch [5/30], Train Loss: 0.5467, Train Accuracy: 0.7586, Validation Loss: 0.5236, Validation Accuracy: 0.7700\n",
      "Epoch [6/30], Train Loss: 0.5277, Train Accuracy: 0.7586, Validation Loss: 0.5049, Validation Accuracy: 0.7700\n",
      "Epoch [7/30], Train Loss: 0.5040, Train Accuracy: 0.7586, Validation Loss: 0.4826, Validation Accuracy: 0.7700\n",
      "Epoch [8/30], Train Loss: 0.4779, Train Accuracy: 0.7586, Validation Loss: 0.4569, Validation Accuracy: 0.7700\n",
      "Epoch [9/30], Train Loss: 0.4466, Train Accuracy: 0.7586, Validation Loss: 0.4265, Validation Accuracy: 0.7700\n",
      "Epoch [10/30], Train Loss: 0.4116, Train Accuracy: 0.7600, Validation Loss: 0.3918, Validation Accuracy: 0.7750\n",
      "Epoch [11/30], Train Loss: 0.3735, Train Accuracy: 0.7886, Validation Loss: 0.3552, Validation Accuracy: 0.8000\n",
      "Epoch [12/30], Train Loss: 0.3366, Train Accuracy: 0.8314, Validation Loss: 0.3228, Validation Accuracy: 0.8700\n",
      "Epoch [13/30], Train Loss: 0.3026, Train Accuracy: 0.8629, Validation Loss: 0.2975, Validation Accuracy: 0.9050\n",
      "Epoch [14/30], Train Loss: 0.2790, Train Accuracy: 0.9057, Validation Loss: 0.2757, Validation Accuracy: 0.9000\n",
      "Epoch [15/30], Train Loss: 0.2596, Train Accuracy: 0.9271, Validation Loss: 0.2589, Validation Accuracy: 0.9100\n",
      "Epoch [16/30], Train Loss: 0.2387, Train Accuracy: 0.9243, Validation Loss: 0.2521, Validation Accuracy: 0.9000\n",
      "Epoch [17/30], Train Loss: 0.2222, Train Accuracy: 0.9371, Validation Loss: 0.2239, Validation Accuracy: 0.9150\n",
      "Epoch [18/30], Train Loss: 0.2058, Train Accuracy: 0.9300, Validation Loss: 0.2220, Validation Accuracy: 0.9000\n",
      "Epoch [19/30], Train Loss: 0.1990, Train Accuracy: 0.9314, Validation Loss: 0.1973, Validation Accuracy: 0.9450\n",
      "Epoch [20/30], Train Loss: 0.1775, Train Accuracy: 0.9443, Validation Loss: 0.1938, Validation Accuracy: 0.9050\n",
      "Epoch [21/30], Train Loss: 0.1648, Train Accuracy: 0.9471, Validation Loss: 0.1776, Validation Accuracy: 0.9350\n",
      "Epoch [22/30], Train Loss: 0.1531, Train Accuracy: 0.9514, Validation Loss: 0.1796, Validation Accuracy: 0.9500\n",
      "Epoch [23/30], Train Loss: 0.1512, Train Accuracy: 0.9486, Validation Loss: 0.1661, Validation Accuracy: 0.9400\n",
      "Epoch [24/30], Train Loss: 0.1473, Train Accuracy: 0.9514, Validation Loss: 0.1775, Validation Accuracy: 0.9050\n",
      "Epoch [25/30], Train Loss: 0.1406, Train Accuracy: 0.9571, Validation Loss: 0.1836, Validation Accuracy: 0.9050\n",
      "Epoch [26/30], Train Loss: 0.1303, Train Accuracy: 0.9529, Validation Loss: 0.1665, Validation Accuracy: 0.9450\n",
      "Epoch [27/30], Train Loss: 0.1384, Train Accuracy: 0.9486, Validation Loss: 0.1515, Validation Accuracy: 0.9450\n",
      "Epoch [28/30], Train Loss: 0.1207, Train Accuracy: 0.9571, Validation Loss: 0.1518, Validation Accuracy: 0.9500\n",
      "Epoch [29/30], Train Loss: 0.1203, Train Accuracy: 0.9586, Validation Loss: 0.1674, Validation Accuracy: 0.9100\n",
      "Epoch [30/30], Train Loss: 0.1189, Train Accuracy: 0.9557, Validation Loss: 0.1466, Validation Accuracy: 0.9350\n",
      "Finished Training\n"
     ]
    }
   ],
   "source": [
    "fire_dataset = FireDataset(os.path.join(base_path, \"FIRE Dataset\"), transforms=transforms.Compose([\n",
    "                                                                        transforms.Resize((256, 256)),\n",
    "                                                                        transforms.ToTensor()\n",
    "                                                                    ])\n",
    ")\n",
    "\n",
    "fire_train_loader, fire_val_loader, fire_test_loader = split_dataset_into_dataloaders(fire_dataset, 50, 0.7, 0.2, 0.1)\n",
    "\n",
    "model_name = \"dummy_cnn_30\"\n",
    "first_model_30 = SimpleCNN()\n",
    "\n",
    "criterion = nn.CrossEntropyLoss()\n",
    "optimizer = optim.SGD(first_model_30.parameters(), lr=0.0003, momentum=0.9)\n",
    "\n",
    "first_history_30 = train_model(first_model_30, criterion, optimizer, base_path, model_name, 30, fire_train_loader, fire_val_loader)"
   ]
  },
  {
   "cell_type": "code",
   "execution_count": 64,
   "metadata": {},
   "outputs": [
    {
     "data": {
      "image/png": "[encoded data removed]",
      "text/plain": [
       "<Figure size 640x480 with 1 Axes>"
      ]
     },
     "metadata": {},
     "output_type": "display_data"
    }
   ],
   "source": [
    "plot_loss(first_history_30[\"avg_train_loss_list\"], first_history_30[\"avg_val_loss_list\"])"
   ]
  },
  {
   "cell_type": "code",
   "execution_count": 65,
   "metadata": {},
   "outputs": [
    {
     "data": {
      "image/png": "[encoded data removed]",
      "text/plain": [
       "<Figure size 640x480 with 1 Axes>"
      ]
     },
     "metadata": {},
     "output_type": "display_data"
    }
   ],
   "source": [
    "plot_accuracy(first_history_30[\"train_accuracy_list\"], first_history_30[\"val_accuracy_list\"])"
   ]
  },
  {
   "cell_type": "code",
   "execution_count": 63,
   "metadata": {},
   "outputs": [
    {
     "name": "stdout",
     "output_type": "stream",
     "text": [
      "CUDA is available. Using GPU.\n"
     ]
    },
    {
     "data": {
      "application/vnd.jupyter.widget-view+json": {
       "model_id": "2ffc35ae1efd4e528c00b9258130836a",
       "version_major": 2,
       "version_minor": 0
      },
      "text/plain": [
       "  0%|          | 0/60 [00:00<?, ?it/s]"
      ]
     },
     "metadata": {},
     "output_type": "display_data"
    },
    {
     "name": "stdout",
     "output_type": "stream",
     "text": [
      "Recall on the test set: 0.70\n",
      "Precision on the test set: 0.70\n",
      "F1 Score on the test set: 0.70\n"
     ]
    }
   ],
   "source": [
    "calculate_metrics(first_model_30, custom_test_loader)"
   ]
  },
  {
   "cell_type": "markdown",
   "metadata": {},
   "source": [
    "Ah, it got worse, which means it overfitted. 20 epochs was conveniently the last epoch before validation loss increased for the first time, which seemed to be the best number of epochs for the FIRE Dataset. For the FIRE + Forest Fire dataset, that value seems to be 6 epochs. Let's train with this dataset with 6 epochs and see how it turns out."
   ]
  },
  {
   "cell_type": "code",
   "execution_count": 67,
   "metadata": {},
   "outputs": [
    {
     "name": "stdout",
     "output_type": "stream",
     "text": [
      "CUDA is available. Using GPU.\n"
     ]
    },
    {
     "data": {
      "application/vnd.jupyter.widget-view+json": {
       "model_id": "8a7a230c7be04615ae5e2e1b632c63a2",
       "version_major": 2,
       "version_minor": 0
      },
      "text/plain": [
       "  0%|          | 0/6 [00:00<?, ?it/s]"
      ]
     },
     "metadata": {},
     "output_type": "display_data"
    },
    {
     "name": "stdout",
     "output_type": "stream",
     "text": [
      "Epoch [1/6], Train Loss: 0.6528, Train Accuracy: 0.6627, Validation Loss: 0.5818, Validation Accuracy: 0.7464\n",
      "Epoch [2/6], Train Loss: 0.4946, Train Accuracy: 0.7589, Validation Loss: 0.4564, Validation Accuracy: 0.7915\n",
      "Epoch [3/6], Train Loss: 0.4069, Train Accuracy: 0.7944, Validation Loss: 0.3691, Validation Accuracy: 0.8329\n",
      "Epoch [4/6], Train Loss: 0.3529, Train Accuracy: 0.8405, Validation Loss: 0.3237, Validation Accuracy: 0.8744\n",
      "Epoch [5/6], Train Loss: 0.3127, Train Accuracy: 0.8774, Validation Loss: 0.2974, Validation Accuracy: 0.8732\n",
      "Epoch [6/6], Train Loss: 0.2789, Train Accuracy: 0.8950, Validation Loss: 0.4090, Validation Accuracy: 0.7855\n",
      "Finished Training\n"
     ]
    }
   ],
   "source": [
    "three_f_model_name = \"dummy_cnn_two_datasets_6\"\n",
    "three_f_model_6 = SimpleCNN()\n",
    "\n",
    "criterion = nn.CrossEntropyLoss()\n",
    "optimizer = optim.SGD(three_f_model_6.parameters(), lr=0.0003, momentum=0.9)\n",
    "\n",
    "three_f_6_history = train_model(three_f_model_6, criterion, optimizer, base_path, three_f_model_name, 6, three_f_train_loader, three_f_val_loader)"
   ]
  },
  {
   "cell_type": "code",
   "execution_count": 68,
   "metadata": {},
   "outputs": [
    {
     "name": "stdout",
     "output_type": "stream",
     "text": [
      "CUDA is available. Using GPU.\n"
     ]
    },
    {
     "data": {
      "application/vnd.jupyter.widget-view+json": {
       "model_id": "ecdc4edbce7f4961a7ef85e5ce620f08",
       "version_major": 2,
       "version_minor": 0
      },
      "text/plain": [
       "  0%|          | 0/60 [00:00<?, ?it/s]"
      ]
     },
     "metadata": {},
     "output_type": "display_data"
    },
    {
     "name": "stdout",
     "output_type": "stream",
     "text": [
      "Recall on the test set: 0.43\n",
      "Precision on the test set: 0.43\n",
      "F1 Score on the test set: 0.43\n"
     ]
    }
   ],
   "source": [
    "calculate_metrics(three_f_model_6, custom_test_loader)"
   ]
  },
  {
   "cell_type": "markdown",
   "metadata": {},
   "source": [
    "Nope, looks like there is no real pattern. With some epochs it is better, with worse it is other. For the same number of epochs, for some datasets the model overfits while for other datasets it is fine. So far, 20 epochs has been the best value for the combined FIRE and Forest Fire Datasets, even though loss is much lower than for the FIRE Dataset. The loss does decrease much faster than with only the FIRE Dataset, probably because there are more similar images of fires, which allows the model to converge faster."
   ]
  },
  {
   "cell_type": "markdown",
   "metadata": {},
   "source": [
    "Might make sense to store models after some number of epochs, for example, every 5 epochs or every 2 epochs, to compare which number is the best. Let's do some changes to the training cycle function."
   ]
  },
  {
   "cell_type": "code",
   "execution_count": 71,
   "metadata": {},
   "outputs": [],
   "source": [
    "import json\n",
    "from tqdm import tqdm\n",
    "from tqdm.notebook import tqdm\n",
    "from capstonfire_utils import plot_loss, plot_accuracy, FireDataset, split_dataset_into_dataloaders, calculate_metrics, run_video"
   ]
  },
  {
   "cell_type": "code",
   "execution_count": 154,
   "metadata": {},
   "outputs": [],
   "source": [
    "def train_model(model: torch.nn.Module,criterion, optimizer, \n",
    "                models_folder_path: str, model_filename: str, \n",
    "                num_epochs: int, \n",
    "                train_loader: DataLoader, val_loader: DataLoader, \n",
    "                epoch_checkpoints: int = 0):\n",
    "    \n",
    "\n",
    "    if torch.cuda.is_available():\n",
    "        device = torch.device(\"cuda\")\n",
    "        print(\"CUDA is available. Using GPU.\")\n",
    "    else:\n",
    "        device = torch.device(\"cpu\")\n",
    "        print(\"CUDA is not available. Using CPU.\")\n",
    "\n",
    "    if epoch_checkpoints < 1:\n",
    "        print(\"Checkpoints smaller than 1. Only the final model will be saved.\")\n",
    "\n",
    "    model = model.to(device)\n",
    "\n",
    "    history = {\n",
    "        \"avg_train_loss_list\": [],\n",
    "        \"train_accuracy_list\": [],\n",
    "        \"avg_val_loss_list\": [],\n",
    "        \"val_accuracy_list\": []\n",
    "    }\n",
    "\n",
    "    start_range = 0\n",
    "\n",
    "    hist_file_path = os.path.join(models_folder_path, model_filename + '.json')\n",
    "    \n",
    "    # Retrieve model if it was already trained. The state loaded will be that of the last epoch.\n",
    "    if model_filename + '.pt' in os.listdir(models_folder_path):\n",
    "        model.load_state_dict(torch.load(os.path.join(models_folder_path, model_filename +'.pt')))\n",
    "        \n",
    "        with open(hist_file_path, 'r') as json_file:\n",
    "            history = json.load(json_file)\n",
    "\n",
    "        # If num_epochs is equal or lower to the epochs of a previously trained model, skip training. Else continue training\n",
    "        if len(history[\"avg_train_loss_list\"]) >= num_epochs:\n",
    "            return history\n",
    "        else:\n",
    "            start_range = len(history[\"avg_train_loss_list\"])\n",
    "\n",
    "    # if model was never trained, enter loop. If asking for more epochs, start from where model was left off\n",
    "    for epoch in tqdm(list(range(start_range, num_epochs))):\n",
    "        model.train()\n",
    "\n",
    "        running_loss = 0.0\n",
    "        correct_train = 0\n",
    "        total_train = 0\n",
    "\n",
    "        for i, data in enumerate(train_loader, 0):\n",
    "            inputs, labels = data\n",
    "            inputs, labels = inputs.to(device), labels.to(device)\n",
    "            optimizer.zero_grad()  # zero the parameter gradients\n",
    "            outputs = model(inputs)  # forward\n",
    "            loss = criterion(outputs, labels)  # calculate loss\n",
    "            loss.backward()  # backward\n",
    "            optimizer.step()  # optimize\n",
    "\n",
    "            _, predicted = torch.max(outputs, 1)\n",
    "            total_train += labels.size(0)\n",
    "            correct_train += (predicted == labels).sum().item()\n",
    "\n",
    "            running_loss += loss.item()\n",
    "\n",
    "        avg_train_loss = running_loss / len(train_loader)\n",
    "        train_accuracy = correct_train / total_train\n",
    "            \n",
    "        model.eval()  # Set the model to evaluation mode\n",
    "        with torch.no_grad():\n",
    "            correct_val = 0\n",
    "            total_val = 0\n",
    "            val_loss = 0.0\n",
    "\n",
    "            for inputs_val, labels_val in val_loader:\n",
    "                inputs_val, labels_val = inputs_val.to(device), labels_val.to(device)\n",
    "                outputs_val = model(inputs_val)\n",
    "                loss_val = criterion(outputs_val, labels_val)\n",
    "\n",
    "                _, predicted_val = torch.max(outputs_val, 1)\n",
    "                total_val += labels_val.size(0)\n",
    "                correct_val += (predicted_val == labels_val).sum().item()\n",
    "\n",
    "                val_loss += loss_val.item()\n",
    "\n",
    "        avg_val_loss = val_loss / len(val_loader)\n",
    "        val_accuracy = correct_val / total_val\n",
    "\n",
    "        history[\"avg_train_loss_list\"].append(avg_train_loss)\n",
    "        history[\"train_accuracy_list\"].append(train_accuracy)\n",
    "        history[\"avg_val_loss_list\"].append(avg_val_loss)\n",
    "        history[\"val_accuracy_list\"].append(val_accuracy)\n",
    "\n",
    "        print(f'Epoch [{epoch+1}/{num_epochs}], '\n",
    "            f'Train Loss: {avg_train_loss:.4f}, Train Accuracy: {train_accuracy:.4f}, '\n",
    "            f'Validation Loss: {avg_val_loss:.4f}, Validation Accuracy: {val_accuracy:.4f}')\n",
    "        \n",
    "        # Do not save if there is no indication to store intermediate models or if it is the last iteration of the training loop\n",
    "        if epoch_checkpoints < 1:\n",
    "            continue\n",
    "\n",
    "        # Store models after every epoch_checkpoints number of epochs\n",
    "        if (epoch + 1) % epoch_checkpoints == 0 and epoch > 0:\n",
    "            path_to_model_folder = os.path.join(models_folder_path, model_filename)\n",
    "\n",
    "            if not os.path.exists(path_to_model_folder):\n",
    "                os.makedirs(path_to_model_folder, exist_ok=True)\n",
    "                \n",
    "            torch.save(model.state_dict(), os.path.join(path_to_model_folder, \"epoch_\" + str(epoch + 1) + '.pt'))\n",
    "\n",
    "    print('Finished Training')\n",
    "\n",
    "    # save model at last epoch\n",
    "    torch.save(model.state_dict(), os.path.join(models_folder_path, model_filename + '.pt'))\n",
    "\n",
    "    # Write history dictionary to a JSON file\n",
    "    with open(hist_file_path, 'w+') as json_file:\n",
    "        json.dump(history, json_file)\n",
    "\n",
    "    return history"
   ]
  },
  {
   "cell_type": "markdown",
   "metadata": {},
   "source": [
    "Let's test this."
   ]
  },
  {
   "cell_type": "code",
   "execution_count": 133,
   "metadata": {},
   "outputs": [
    {
     "name": "stdout",
     "output_type": "stream",
     "text": [
      "CUDA is available. Using GPU.\n"
     ]
    }
   ],
   "source": [
    "three_f_model_name = \"dummy_cnn_two_datasets\"\n",
    "three_f_model = SimpleCNN()\n",
    "\n",
    "criterion = nn.CrossEntropyLoss()\n",
    "optimizer = optim.SGD(three_f_model.parameters(), lr=0.0003, momentum=0.9)\n",
    "\n",
    "three_f_history = train_model(three_f_model, criterion, optimizer, os.path.join(base_path, \"trained_models\"), three_f_model_name, 20, three_f_train_loader, three_f_val_loader, 2)"
   ]
  },
  {
   "cell_type": "code",
   "execution_count": 134,
   "metadata": {},
   "outputs": [
    {
     "data": {
      "image/png": "[encoded data removed]",
      "text/plain": [
       "<Figure size 640x480 with 1 Axes>"
      ]
     },
     "metadata": {},
     "output_type": "display_data"
    }
   ],
   "source": [
    "plot_loss(three_f_history[\"avg_train_loss_list\"], three_f_history[\"avg_val_loss_list\"])"
   ]
  },
  {
   "cell_type": "code",
   "execution_count": 135,
   "metadata": {},
   "outputs": [
    {
     "data": {
      "image/png": "[encoded data removed]",
      "text/plain": [
       "<Figure size 640x480 with 1 Axes>"
      ]
     },
     "metadata": {},
     "output_type": "display_data"
    }
   ],
   "source": [
    "plot_accuracy(three_f_history[\"train_accuracy_list\"], three_f_history[\"val_accuracy_list\"])"
   ]
  },
  {
   "cell_type": "code",
   "execution_count": 108,
   "metadata": {},
   "outputs": [],
   "source": [
    "from torchmetrics.classification import Precision, Recall, F1Score"
   ]
  },
  {
   "cell_type": "code",
   "execution_count": 131,
   "metadata": {},
   "outputs": [
    {
     "name": "stdout",
     "output_type": "stream",
     "text": [
      "CUDA is available. Using GPU.\n"
     ]
    },
    {
     "data": {
      "application/vnd.jupyter.widget-view+json": {
       "model_id": "c40312c01ce244f5a7d38f4a1ae3afc0",
       "version_major": 2,
       "version_minor": 0
      },
      "text/plain": [
       "  0%|          | 0/9 [00:00<?, ?it/s]"
      ]
     },
     "metadata": {},
     "output_type": "display_data"
    },
    {
     "name": "stdout",
     "output_type": "stream",
     "text": [
      "epoch_10.pt metrics:\n"
     ]
    },
    {
     "ename": "KeyboardInterrupt",
     "evalue": "",
     "output_type": "error",
     "traceback": [
      "\u001b[1;31m---------------------------------------------------------------------------\u001b[0m",
      "\u001b[1;31mKeyboardInterrupt\u001b[0m                         Traceback (most recent call last)",
      "\u001b[1;32mc:\\Users\\johnn\\Desktop\\Repos\\Capstonfire\\code_models\\improved_dummy_cnn.ipynb Cell 60\u001b[0m line \u001b[0;36m2\n\u001b[0;32m     <a href='vscode-notebook-cell:/c%3A/Users/johnn/Desktop/Repos/Capstonfire/code_models/improved_dummy_cnn.ipynb#Y146sZmlsZQ%3D%3D?line=18'>19</a>\u001b[0m f1 \u001b[39m=\u001b[39m F1Score(task\u001b[39m=\u001b[39m\u001b[39m'\u001b[39m\u001b[39mmulticlass\u001b[39m\u001b[39m'\u001b[39m,num_classes\u001b[39m=\u001b[39m\u001b[39m2\u001b[39m)\u001b[39m.\u001b[39mto(device)\n\u001b[0;32m     <a href='vscode-notebook-cell:/c%3A/Users/johnn/Desktop/Repos/Capstonfire/code_models/improved_dummy_cnn.ipynb#Y146sZmlsZQ%3D%3D?line=20'>21</a>\u001b[0m \u001b[39mwith\u001b[39;00m torch\u001b[39m.\u001b[39mno_grad():\n\u001b[1;32m---> <a href='vscode-notebook-cell:/c%3A/Users/johnn/Desktop/Repos/Capstonfire/code_models/improved_dummy_cnn.ipynb#Y146sZmlsZQ%3D%3D?line=21'>22</a>\u001b[0m     \u001b[39mfor\u001b[39;49;00m data \u001b[39min\u001b[39;49;00m custom_test_loader:\n\u001b[0;32m     <a href='vscode-notebook-cell:/c%3A/Users/johnn/Desktop/Repos/Capstonfire/code_models/improved_dummy_cnn.ipynb#Y146sZmlsZQ%3D%3D?line=22'>23</a>\u001b[0m         inputs, labels \u001b[39m=\u001b[39;49m data\n\u001b[0;32m     <a href='vscode-notebook-cell:/c%3A/Users/johnn/Desktop/Repos/Capstonfire/code_models/improved_dummy_cnn.ipynb#Y146sZmlsZQ%3D%3D?line=23'>24</a>\u001b[0m         inputs, labels \u001b[39m=\u001b[39;49m inputs\u001b[39m.\u001b[39;49mto(device), labels\u001b[39m.\u001b[39;49mto(device)\n",
      "File \u001b[1;32mc:\\Users\\johnn\\AppData\\Local\\Programs\\Python\\Python311\\Lib\\site-packages\\torch\\utils\\data\\dataloader.py:630\u001b[0m, in \u001b[0;36m_BaseDataLoaderIter.__next__\u001b[1;34m(self)\u001b[0m\n\u001b[0;32m    627\u001b[0m \u001b[39mif\u001b[39;00m \u001b[39mself\u001b[39m\u001b[39m.\u001b[39m_sampler_iter \u001b[39mis\u001b[39;00m \u001b[39mNone\u001b[39;00m:\n\u001b[0;32m    628\u001b[0m     \u001b[39m# TODO(https://github.com/pytorch/pytorch/issues/76750)\u001b[39;00m\n\u001b[0;32m    629\u001b[0m     \u001b[39mself\u001b[39m\u001b[39m.\u001b[39m_reset()  \u001b[39m# type: ignore[call-arg]\u001b[39;00m\n\u001b[1;32m--> 630\u001b[0m data \u001b[39m=\u001b[39m \u001b[39mself\u001b[39;49m\u001b[39m.\u001b[39;49m_next_data()\n\u001b[0;32m    631\u001b[0m \u001b[39mself\u001b[39m\u001b[39m.\u001b[39m_num_yielded \u001b[39m+\u001b[39m\u001b[39m=\u001b[39m \u001b[39m1\u001b[39m\n\u001b[0;32m    632\u001b[0m \u001b[39mif\u001b[39;00m \u001b[39mself\u001b[39m\u001b[39m.\u001b[39m_dataset_kind \u001b[39m==\u001b[39m _DatasetKind\u001b[39m.\u001b[39mIterable \u001b[39mand\u001b[39;00m \\\n\u001b[0;32m    633\u001b[0m         \u001b[39mself\u001b[39m\u001b[39m.\u001b[39m_IterableDataset_len_called \u001b[39mis\u001b[39;00m \u001b[39mnot\u001b[39;00m \u001b[39mNone\u001b[39;00m \u001b[39mand\u001b[39;00m \\\n\u001b[0;32m    634\u001b[0m         \u001b[39mself\u001b[39m\u001b[39m.\u001b[39m_num_yielded \u001b[39m>\u001b[39m \u001b[39mself\u001b[39m\u001b[39m.\u001b[39m_IterableDataset_len_called:\n",
      "File \u001b[1;32mc:\\Users\\johnn\\AppData\\Local\\Programs\\Python\\Python311\\Lib\\site-packages\\torch\\utils\\data\\dataloader.py:674\u001b[0m, in \u001b[0;36m_SingleProcessDataLoaderIter._next_data\u001b[1;34m(self)\u001b[0m\n\u001b[0;32m    672\u001b[0m \u001b[39mdef\u001b[39;00m \u001b[39m_next_data\u001b[39m(\u001b[39mself\u001b[39m):\n\u001b[0;32m    673\u001b[0m     index \u001b[39m=\u001b[39m \u001b[39mself\u001b[39m\u001b[39m.\u001b[39m_next_index()  \u001b[39m# may raise StopIteration\u001b[39;00m\n\u001b[1;32m--> 674\u001b[0m     data \u001b[39m=\u001b[39m \u001b[39mself\u001b[39;49m\u001b[39m.\u001b[39;49m_dataset_fetcher\u001b[39m.\u001b[39;49mfetch(index)  \u001b[39m# may raise StopIteration\u001b[39;00m\n\u001b[0;32m    675\u001b[0m     \u001b[39mif\u001b[39;00m \u001b[39mself\u001b[39m\u001b[39m.\u001b[39m_pin_memory:\n\u001b[0;32m    676\u001b[0m         data \u001b[39m=\u001b[39m _utils\u001b[39m.\u001b[39mpin_memory\u001b[39m.\u001b[39mpin_memory(data, \u001b[39mself\u001b[39m\u001b[39m.\u001b[39m_pin_memory_device)\n",
      "File \u001b[1;32mc:\\Users\\johnn\\AppData\\Local\\Programs\\Python\\Python311\\Lib\\site-packages\\torch\\utils\\data\\_utils\\fetch.py:51\u001b[0m, in \u001b[0;36m_MapDatasetFetcher.fetch\u001b[1;34m(self, possibly_batched_index)\u001b[0m\n\u001b[0;32m     49\u001b[0m         data \u001b[39m=\u001b[39m \u001b[39mself\u001b[39m\u001b[39m.\u001b[39mdataset\u001b[39m.\u001b[39m__getitems__(possibly_batched_index)\n\u001b[0;32m     50\u001b[0m     \u001b[39melse\u001b[39;00m:\n\u001b[1;32m---> 51\u001b[0m         data \u001b[39m=\u001b[39m [\u001b[39mself\u001b[39;49m\u001b[39m.\u001b[39;49mdataset[idx] \u001b[39mfor\u001b[39;49;00m idx \u001b[39min\u001b[39;49;00m possibly_batched_index]\n\u001b[0;32m     52\u001b[0m \u001b[39melse\u001b[39;00m:\n\u001b[0;32m     53\u001b[0m     data \u001b[39m=\u001b[39m \u001b[39mself\u001b[39m\u001b[39m.\u001b[39mdataset[possibly_batched_index]\n",
      "File \u001b[1;32mc:\\Users\\johnn\\AppData\\Local\\Programs\\Python\\Python311\\Lib\\site-packages\\torch\\utils\\data\\_utils\\fetch.py:51\u001b[0m, in \u001b[0;36m<listcomp>\u001b[1;34m(.0)\u001b[0m\n\u001b[0;32m     49\u001b[0m         data \u001b[39m=\u001b[39m \u001b[39mself\u001b[39m\u001b[39m.\u001b[39mdataset\u001b[39m.\u001b[39m__getitems__(possibly_batched_index)\n\u001b[0;32m     50\u001b[0m     \u001b[39melse\u001b[39;00m:\n\u001b[1;32m---> 51\u001b[0m         data \u001b[39m=\u001b[39m [\u001b[39mself\u001b[39;49m\u001b[39m.\u001b[39;49mdataset[idx] \u001b[39mfor\u001b[39;00m idx \u001b[39min\u001b[39;00m possibly_batched_index]\n\u001b[0;32m     52\u001b[0m \u001b[39melse\u001b[39;00m:\n\u001b[0;32m     53\u001b[0m     data \u001b[39m=\u001b[39m \u001b[39mself\u001b[39m\u001b[39m.\u001b[39mdataset[possibly_batched_index]\n",
      "File \u001b[1;32mc:\\Users\\johnn\\Desktop\\Repos\\Capstonfire\\code_models\\capstonfire_utils.py:43\u001b[0m, in \u001b[0;36mFireDataset.__getitem__\u001b[1;34m(self, idx)\u001b[0m\n\u001b[0;32m     41\u001b[0m \u001b[39mdef\u001b[39;00m \u001b[39m__getitem__\u001b[39m(\u001b[39mself\u001b[39m, idx): \u001b[39m# data[idx]\u001b[39;00m\n\u001b[0;32m     42\u001b[0m     img_path, label \u001b[39m=\u001b[39m \u001b[39mself\u001b[39m\u001b[39m.\u001b[39mdata[idx]\n\u001b[1;32m---> 43\u001b[0m     img \u001b[39m=\u001b[39m Image\u001b[39m.\u001b[39;49mopen(img_path)\u001b[39m.\u001b[39;49mconvert(\u001b[39m\"\u001b[39;49m\u001b[39mRGB\u001b[39;49m\u001b[39m\"\u001b[39;49m)\n\u001b[0;32m     45\u001b[0m     img \u001b[39m=\u001b[39m \u001b[39mself\u001b[39m\u001b[39m.\u001b[39mtransforms(img)\n\u001b[0;32m     47\u001b[0m     \u001b[39mreturn\u001b[39;00m img, label\n",
      "File \u001b[1;32mc:\\Users\\johnn\\AppData\\Local\\Programs\\Python\\Python311\\Lib\\site-packages\\PIL\\Image.py:916\u001b[0m, in \u001b[0;36mImage.convert\u001b[1;34m(self, mode, matrix, dither, palette, colors)\u001b[0m\n\u001b[0;32m    868\u001b[0m \u001b[39mdef\u001b[39;00m \u001b[39mconvert\u001b[39m(\n\u001b[0;32m    869\u001b[0m     \u001b[39mself\u001b[39m, mode\u001b[39m=\u001b[39m\u001b[39mNone\u001b[39;00m, matrix\u001b[39m=\u001b[39m\u001b[39mNone\u001b[39;00m, dither\u001b[39m=\u001b[39m\u001b[39mNone\u001b[39;00m, palette\u001b[39m=\u001b[39mPalette\u001b[39m.\u001b[39mWEB, colors\u001b[39m=\u001b[39m\u001b[39m256\u001b[39m\n\u001b[0;32m    870\u001b[0m ):\n\u001b[0;32m    871\u001b[0m \u001b[39m    \u001b[39m\u001b[39m\"\"\"\u001b[39;00m\n\u001b[0;32m    872\u001b[0m \u001b[39m    Returns a converted copy of this image. For the \"P\" mode, this\u001b[39;00m\n\u001b[0;32m    873\u001b[0m \u001b[39m    method translates pixels through the palette.  If mode is\u001b[39;00m\n\u001b[1;32m   (...)\u001b[0m\n\u001b[0;32m    913\u001b[0m \u001b[39m    :returns: An :py:class:`~PIL.Image.Image` object.\u001b[39;00m\n\u001b[0;32m    914\u001b[0m \u001b[39m    \"\"\"\u001b[39;00m\n\u001b[1;32m--> 916\u001b[0m     \u001b[39mself\u001b[39;49m\u001b[39m.\u001b[39;49mload()\n\u001b[0;32m    918\u001b[0m     has_transparency \u001b[39m=\u001b[39m \u001b[39m\"\u001b[39m\u001b[39mtransparency\u001b[39m\u001b[39m\"\u001b[39m \u001b[39min\u001b[39;00m \u001b[39mself\u001b[39m\u001b[39m.\u001b[39minfo\n\u001b[0;32m    919\u001b[0m     \u001b[39mif\u001b[39;00m \u001b[39mnot\u001b[39;00m mode \u001b[39mand\u001b[39;00m \u001b[39mself\u001b[39m\u001b[39m.\u001b[39mmode \u001b[39m==\u001b[39m \u001b[39m\"\u001b[39m\u001b[39mP\u001b[39m\u001b[39m\"\u001b[39m:\n\u001b[0;32m    920\u001b[0m         \u001b[39m# determine default mode\u001b[39;00m\n",
      "File \u001b[1;32mc:\\Users\\johnn\\AppData\\Local\\Programs\\Python\\Python311\\Lib\\site-packages\\PIL\\ImageFile.py:269\u001b[0m, in \u001b[0;36mImageFile.load\u001b[1;34m(self)\u001b[0m\n\u001b[0;32m    266\u001b[0m         \u001b[39mraise\u001b[39;00m \u001b[39mOSError\u001b[39;00m(msg)\n\u001b[0;32m    268\u001b[0m b \u001b[39m=\u001b[39m b \u001b[39m+\u001b[39m s\n\u001b[1;32m--> 269\u001b[0m n, err_code \u001b[39m=\u001b[39m decoder\u001b[39m.\u001b[39;49mdecode(b)\n\u001b[0;32m    270\u001b[0m \u001b[39mif\u001b[39;00m n \u001b[39m<\u001b[39m \u001b[39m0\u001b[39m:\n\u001b[0;32m    271\u001b[0m     \u001b[39mbreak\u001b[39;00m\n",
      "\u001b[1;31mKeyboardInterrupt\u001b[0m: "
     ]
    }
   ],
   "source": [
    "if torch.cuda.is_available():\n",
    "    device = torch.device(\"cuda\")\n",
    "    print(\"CUDA is available. Using GPU.\")\n",
    "else:\n",
    "    device = torch.device(\"cpu\")\n",
    "    print(\"CUDA is not available. Using CPU.\")\n",
    "\n",
    "intermediate_model = SimpleCNN().to(device)\n",
    "\n",
    "epoch_metrics = {}\n",
    "\n",
    "for dirpath, _, filenames in os.walk(os.path.join(base_path, \"trained_models\", three_f_model_name)):\n",
    "    for model_filename in tqdm(filenames):\n",
    "        intermediate_model.load_state_dict(torch.load(os.path.join(dirpath, model_filename)))\n",
    "        print(model_filename + \" metrics:\")\n",
    "\n",
    "        recall = Recall(task='multiclass',num_classes=2).to(device)\n",
    "        precision = Precision(task='multiclass',num_classes=2).to(device)\n",
    "        f1 = F1Score(task='multiclass',num_classes=2).to(device)\n",
    "\n",
    "        with torch.no_grad():\n",
    "            for data in custom_test_loader:\n",
    "                inputs, labels = data\n",
    "                inputs, labels = inputs.to(device), labels.to(device)\n",
    "                outputs = intermediate_model(inputs)  # forward\n",
    "                #predicted_binary = (torch.sigmoid(outputs) > 0.5).float()\n",
    "                predictions = torch.argmax(outputs, dim=1)\n",
    "\n",
    "                recall.update(predictions, labels)\n",
    "                precision.update(predictions, labels)\n",
    "                f1.update(predictions, labels)\n",
    "\n",
    "        precision_value = precision.compute()\n",
    "        recall_value = recall.compute()\n",
    "        f1_value = f1.compute()\n",
    "\n",
    "        print('Precision/Recall/F1 Score')\n",
    "        print('  %.2f     %.2f   %.2f'% (precision_value, recall_value, f1_value))\n",
    "\n",
    "        epoch_metrics[model_filename] = {\n",
    "            \"Precision\": precision_value, \n",
    "            \"Recall\": recall_value, \n",
    "            \"F1Score\": f1_value\n",
    "            }"
   ]
  },
  {
   "cell_type": "code",
   "execution_count": 116,
   "metadata": {},
   "outputs": [
    {
     "name": "stdout",
     "output_type": "stream",
     "text": [
      "CUDA is available. Using GPU.\n"
     ]
    },
    {
     "data": {
      "application/vnd.jupyter.widget-view+json": {
       "model_id": "4af24fef040e4326adbe4e1541fb4ee4",
       "version_major": 2,
       "version_minor": 0
      },
      "text/plain": [
       "  0%|          | 0/60 [00:00<?, ?it/s]"
      ]
     },
     "metadata": {},
     "output_type": "display_data"
    },
    {
     "name": "stdout",
     "output_type": "stream",
     "text": [
      "Recall on the test set: 0.53\n",
      "Precision on the test set: 0.53\n",
      "F1 Score on the test set: 0.53\n"
     ]
    }
   ],
   "source": [
    "calculate_metrics(three_f_model, custom_test_loader)"
   ]
  },
  {
   "cell_type": "markdown",
   "metadata": {},
   "source": [
    "Looks like the ideal number of epochs is not 6, 12 or 20, but somewhere between 16 and 18. Still, the metrics are worse than with just the FIRE Dataset."
   ]
  },
  {
   "cell_type": "markdown",
   "metadata": {},
   "source": [
    "Let's try 40 epochs and see how that turns out."
   ]
  },
  {
   "cell_type": "code",
   "execution_count": 155,
   "metadata": {},
   "outputs": [
    {
     "name": "stdout",
     "output_type": "stream",
     "text": [
      "CUDA is available. Using GPU.\n"
     ]
    },
    {
     "data": {
      "application/vnd.jupyter.widget-view+json": {
       "model_id": "3f296fae779147309446b52890a21ab1",
       "version_major": 2,
       "version_minor": 0
      },
      "text/plain": [
       "  0%|          | 0/20 [00:00<?, ?it/s]"
      ]
     },
     "metadata": {},
     "output_type": "display_data"
    },
    {
     "name": "stdout",
     "output_type": "stream",
     "text": [
      "Epoch [21/40], Train Loss: 0.1154, Train Accuracy: 0.9556, Validation Loss: 0.1054, Validation Accuracy: 0.9633\n",
      "Epoch [22/40], Train Loss: 0.1169, Train Accuracy: 0.9621, Validation Loss: 0.1124, Validation Accuracy: 0.9621\n",
      "Epoch [23/40], Train Loss: 0.1079, Train Accuracy: 0.9607, Validation Loss: 0.1151, Validation Accuracy: 0.9562\n",
      "Epoch [24/40], Train Loss: 0.1077, Train Accuracy: 0.9611, Validation Loss: 0.1714, Validation Accuracy: 0.9254\n",
      "Epoch [25/40], Train Loss: 0.1173, Train Accuracy: 0.9567, Validation Loss: 0.1295, Validation Accuracy: 0.9479\n",
      "Epoch [26/40], Train Loss: 0.1014, Train Accuracy: 0.9634, Validation Loss: 0.1004, Validation Accuracy: 0.9668\n",
      "Epoch [27/40], Train Loss: 0.0993, Train Accuracy: 0.9658, Validation Loss: 0.1342, Validation Accuracy: 0.9491\n",
      "Epoch [28/40], Train Loss: 0.1165, Train Accuracy: 0.9580, Validation Loss: 0.1093, Validation Accuracy: 0.9645\n",
      "Epoch [29/40], Train Loss: 0.1066, Train Accuracy: 0.9638, Validation Loss: 0.0968, Validation Accuracy: 0.9692\n",
      "Epoch [30/40], Train Loss: 0.0911, Train Accuracy: 0.9678, Validation Loss: 0.1288, Validation Accuracy: 0.9526\n",
      "Epoch [31/40], Train Loss: 0.1004, Train Accuracy: 0.9678, Validation Loss: 0.0976, Validation Accuracy: 0.9621\n",
      "Epoch [32/40], Train Loss: 0.1128, Train Accuracy: 0.9583, Validation Loss: 0.2158, Validation Accuracy: 0.9123\n",
      "Epoch [33/40], Train Loss: 0.0971, Train Accuracy: 0.9658, Validation Loss: 0.1040, Validation Accuracy: 0.9633\n",
      "Epoch [34/40], Train Loss: 0.0865, Train Accuracy: 0.9709, Validation Loss: 0.0915, Validation Accuracy: 0.9668\n",
      "Epoch [35/40], Train Loss: 0.1045, Train Accuracy: 0.9685, Validation Loss: 0.0952, Validation Accuracy: 0.9668\n",
      "Epoch [36/40], Train Loss: 0.1055, Train Accuracy: 0.9631, Validation Loss: 0.0955, Validation Accuracy: 0.9645\n",
      "Epoch [37/40], Train Loss: 0.0867, Train Accuracy: 0.9729, Validation Loss: 0.1086, Validation Accuracy: 0.9597\n",
      "Epoch [38/40], Train Loss: 0.0885, Train Accuracy: 0.9722, Validation Loss: 0.1007, Validation Accuracy: 0.9645\n",
      "Epoch [39/40], Train Loss: 0.0861, Train Accuracy: 0.9712, Validation Loss: 0.0891, Validation Accuracy: 0.9716\n",
      "Epoch [40/40], Train Loss: 0.0729, Train Accuracy: 0.9793, Validation Loss: 0.1190, Validation Accuracy: 0.9585\n",
      "Finished Training\n"
     ]
    }
   ],
   "source": [
    "three_f_history = train_model(three_f_model, criterion, optimizer, os.path.join(base_path, \"trained_models\"), three_f_model_name, 40, three_f_train_loader, three_f_val_loader, 2)"
   ]
  },
  {
   "cell_type": "code",
   "execution_count": 156,
   "metadata": {},
   "outputs": [
    {
     "name": "stdout",
     "output_type": "stream",
     "text": [
      "CUDA is available. Using GPU.\n"
     ]
    },
    {
     "data": {
      "application/vnd.jupyter.widget-view+json": {
       "model_id": "6dd8094ffa7042a48183b74a8117109d",
       "version_major": 2,
       "version_minor": 0
      },
      "text/plain": [
       "  0%|          | 0/19 [00:00<?, ?it/s]"
      ]
     },
     "metadata": {},
     "output_type": "display_data"
    },
    {
     "name": "stdout",
     "output_type": "stream",
     "text": [
      "epoch_10.pt metrics:\n",
      "Precision/Recall/F1 Score\n",
      "  0.51     0.51   0.51\n",
      "epoch_12.pt metrics:\n",
      "Precision/Recall/F1 Score\n",
      "  0.56     0.56   0.56\n",
      "epoch_14.pt metrics:\n",
      "Precision/Recall/F1 Score\n",
      "  0.52     0.52   0.52\n",
      "epoch_16.pt metrics:\n",
      "Precision/Recall/F1 Score\n",
      "  0.59     0.59   0.59\n",
      "epoch_18.pt metrics:\n",
      "Precision/Recall/F1 Score\n",
      "  0.59     0.59   0.59\n",
      "epoch_2.pt metrics:\n",
      "Precision/Recall/F1 Score\n",
      "  0.35     0.35   0.35\n",
      "epoch_22.pt metrics:\n",
      "Precision/Recall/F1 Score\n",
      "  0.55     0.55   0.55\n",
      "epoch_24.pt metrics:\n",
      "Precision/Recall/F1 Score\n",
      "  0.54     0.54   0.54\n",
      "epoch_26.pt metrics:\n",
      "Precision/Recall/F1 Score\n",
      "  0.57     0.57   0.57\n",
      "epoch_28.pt metrics:\n",
      "Precision/Recall/F1 Score\n",
      "  0.55     0.55   0.55\n",
      "epoch_30.pt metrics:\n",
      "Precision/Recall/F1 Score\n",
      "  0.55     0.55   0.55\n",
      "epoch_32.pt metrics:\n",
      "Precision/Recall/F1 Score\n",
      "  0.53     0.53   0.53\n",
      "epoch_34.pt metrics:\n",
      "Precision/Recall/F1 Score\n",
      "  0.60     0.60   0.60\n",
      "epoch_36.pt metrics:\n",
      "Precision/Recall/F1 Score\n",
      "  0.59     0.59   0.59\n",
      "epoch_38.pt metrics:\n",
      "Precision/Recall/F1 Score\n",
      "  0.62     0.62   0.62\n",
      "epoch_4.pt metrics:\n",
      "Precision/Recall/F1 Score\n",
      "  0.42     0.42   0.42\n",
      "epoch_40.pt metrics:\n",
      "Precision/Recall/F1 Score\n",
      "  0.57     0.57   0.57\n",
      "epoch_6.pt metrics:\n",
      "Precision/Recall/F1 Score\n",
      "  0.46     0.46   0.46\n",
      "epoch_8.pt metrics:\n",
      "Precision/Recall/F1 Score\n",
      "  0.48     0.48   0.48\n"
     ]
    }
   ],
   "source": [
    "if torch.cuda.is_available():\n",
    "    device = torch.device(\"cuda\")\n",
    "    print(\"CUDA is available. Using GPU.\")\n",
    "else:\n",
    "    device = torch.device(\"cpu\")\n",
    "    print(\"CUDA is not available. Using CPU.\")\n",
    "\n",
    "intermediate_model = SimpleCNN().to(device)\n",
    "\n",
    "epoch_metrics = {}\n",
    "\n",
    "for dirpath, _, filenames in os.walk(os.path.join(base_path, \"trained_models\", three_f_model_name)):\n",
    "    for model_filename in tqdm(filenames):\n",
    "        intermediate_model.load_state_dict(torch.load(os.path.join(dirpath, model_filename)))\n",
    "        print(model_filename + \" metrics:\")\n",
    "\n",
    "        recall = Recall(task='multiclass',num_classes=2).to(device)\n",
    "        precision = Precision(task='multiclass',num_classes=2).to(device)\n",
    "        f1 = F1Score(task='multiclass',num_classes=2).to(device)\n",
    "\n",
    "        with torch.no_grad():\n",
    "            for data in custom_test_loader:\n",
    "                inputs, labels = data\n",
    "                inputs, labels = inputs.to(device), labels.to(device)\n",
    "                outputs = intermediate_model(inputs)  # forward\n",
    "                #predicted_binary = (torch.sigmoid(outputs) > 0.5).float()\n",
    "                predictions = torch.argmax(outputs, dim=1)\n",
    "\n",
    "                recall.update(predictions, labels)\n",
    "                precision.update(predictions, labels)\n",
    "                f1.update(predictions, labels)\n",
    "\n",
    "        precision_value = precision.compute()\n",
    "        recall_value = recall.compute()\n",
    "        f1_value = f1.compute()\n",
    "\n",
    "        print('Precision/Recall/F1 Score')\n",
    "        print('  %.2f     %.2f   %.2f'% (precision_value, recall_value, f1_value))\n",
    "\n",
    "        epoch_metrics[model_filename] = {\n",
    "            \"Precision\": precision_value, \n",
    "            \"Recall\": recall_value, \n",
    "            \"F1Score\": f1_value\n",
    "            }"
   ]
  },
  {
   "cell_type": "code",
   "execution_count": 138,
   "metadata": {},
   "outputs": [],
   "source": [
    "import pandas as pd"
   ]
  },
  {
   "cell_type": "code",
   "execution_count": 151,
   "metadata": {},
   "outputs": [],
   "source": [
    "def sort_metrics(metrics_dict):\n",
    "    df = pd.DataFrame.from_dict(metrics_dict, orient='index')\n",
    "    df = df.map(lambda x: x.item() if isinstance(x, torch.Tensor) else x)\n",
    "    df = df.rename(index=lambda x: int(x.split('_')[1].split('.')[0]))\n",
    "    return df.sort_index()"
   ]
  },
  {
   "cell_type": "code",
   "execution_count": 157,
   "metadata": {},
   "outputs": [
    {
     "data": {
      "text/html": [
       "<div>\n",
       "<style scoped>\n",
       "    .dataframe tbody tr th:only-of-type {\n",
       "        vertical-align: middle;\n",
       "    }\n",
       "\n",
       "    .dataframe tbody tr th {\n",
       "        vertical-align: top;\n",
       "    }\n",
       "\n",
       "    .dataframe thead th {\n",
       "        text-align: right;\n",
       "    }\n",
       "</style>\n",
       "<table border=\"1\" class=\"dataframe\">\n",
       "  <thead>\n",
       "    <tr style=\"text-align: right;\">\n",
       "      <th></th>\n",
       "      <th>Precision</th>\n",
       "      <th>Recall</th>\n",
       "      <th>F1Score</th>\n",
       "    </tr>\n",
       "  </thead>\n",
       "  <tbody>\n",
       "    <tr>\n",
       "      <th>2</th>\n",
       "      <td>0.345461</td>\n",
       "      <td>0.345461</td>\n",
       "      <td>0.345461</td>\n",
       "    </tr>\n",
       "    <tr>\n",
       "      <th>4</th>\n",
       "      <td>0.420227</td>\n",
       "      <td>0.420227</td>\n",
       "      <td>0.420227</td>\n",
       "    </tr>\n",
       "    <tr>\n",
       "      <th>6</th>\n",
       "      <td>0.462283</td>\n",
       "      <td>0.462283</td>\n",
       "      <td>0.462283</td>\n",
       "    </tr>\n",
       "    <tr>\n",
       "      <th>8</th>\n",
       "      <td>0.477303</td>\n",
       "      <td>0.477303</td>\n",
       "      <td>0.477303</td>\n",
       "    </tr>\n",
       "    <tr>\n",
       "      <th>10</th>\n",
       "      <td>0.510013</td>\n",
       "      <td>0.510013</td>\n",
       "      <td>0.510013</td>\n",
       "    </tr>\n",
       "    <tr>\n",
       "      <th>12</th>\n",
       "      <td>0.557076</td>\n",
       "      <td>0.557076</td>\n",
       "      <td>0.557076</td>\n",
       "    </tr>\n",
       "    <tr>\n",
       "      <th>14</th>\n",
       "      <td>0.522363</td>\n",
       "      <td>0.522363</td>\n",
       "      <td>0.522363</td>\n",
       "    </tr>\n",
       "    <tr>\n",
       "      <th>16</th>\n",
       "      <td>0.586115</td>\n",
       "      <td>0.586115</td>\n",
       "      <td>0.586115</td>\n",
       "    </tr>\n",
       "    <tr>\n",
       "      <th>18</th>\n",
       "      <td>0.594459</td>\n",
       "      <td>0.594459</td>\n",
       "      <td>0.594459</td>\n",
       "    </tr>\n",
       "    <tr>\n",
       "      <th>22</th>\n",
       "      <td>0.551402</td>\n",
       "      <td>0.551402</td>\n",
       "      <td>0.551402</td>\n",
       "    </tr>\n",
       "    <tr>\n",
       "      <th>24</th>\n",
       "      <td>0.539720</td>\n",
       "      <td>0.539720</td>\n",
       "      <td>0.539720</td>\n",
       "    </tr>\n",
       "    <tr>\n",
       "      <th>26</th>\n",
       "      <td>0.570761</td>\n",
       "      <td>0.570761</td>\n",
       "      <td>0.570761</td>\n",
       "    </tr>\n",
       "    <tr>\n",
       "      <th>28</th>\n",
       "      <td>0.551068</td>\n",
       "      <td>0.551068</td>\n",
       "      <td>0.551068</td>\n",
       "    </tr>\n",
       "    <tr>\n",
       "      <th>30</th>\n",
       "      <td>0.547397</td>\n",
       "      <td>0.547397</td>\n",
       "      <td>0.547397</td>\n",
       "    </tr>\n",
       "    <tr>\n",
       "      <th>32</th>\n",
       "      <td>0.526702</td>\n",
       "      <td>0.526702</td>\n",
       "      <td>0.526702</td>\n",
       "    </tr>\n",
       "    <tr>\n",
       "      <th>34</th>\n",
       "      <td>0.602136</td>\n",
       "      <td>0.602136</td>\n",
       "      <td>0.602136</td>\n",
       "    </tr>\n",
       "    <tr>\n",
       "      <th>36</th>\n",
       "      <td>0.592457</td>\n",
       "      <td>0.592457</td>\n",
       "      <td>0.592457</td>\n",
       "    </tr>\n",
       "    <tr>\n",
       "      <th>38</th>\n",
       "      <td>0.620828</td>\n",
       "      <td>0.620828</td>\n",
       "      <td>0.620828</td>\n",
       "    </tr>\n",
       "    <tr>\n",
       "      <th>40</th>\n",
       "      <td>0.571095</td>\n",
       "      <td>0.571095</td>\n",
       "      <td>0.571095</td>\n",
       "    </tr>\n",
       "  </tbody>\n",
       "</table>\n",
       "</div>"
      ],
      "text/plain": [
       "    Precision    Recall   F1Score\n",
       "2    0.345461  0.345461  0.345461\n",
       "4    0.420227  0.420227  0.420227\n",
       "6    0.462283  0.462283  0.462283\n",
       "8    0.477303  0.477303  0.477303\n",
       "10   0.510013  0.510013  0.510013\n",
       "12   0.557076  0.557076  0.557076\n",
       "14   0.522363  0.522363  0.522363\n",
       "16   0.586115  0.586115  0.586115\n",
       "18   0.594459  0.594459  0.594459\n",
       "22   0.551402  0.551402  0.551402\n",
       "24   0.539720  0.539720  0.539720\n",
       "26   0.570761  0.570761  0.570761\n",
       "28   0.551068  0.551068  0.551068\n",
       "30   0.547397  0.547397  0.547397\n",
       "32   0.526702  0.526702  0.526702\n",
       "34   0.602136  0.602136  0.602136\n",
       "36   0.592457  0.592457  0.592457\n",
       "38   0.620828  0.620828  0.620828\n",
       "40   0.571095  0.571095  0.571095"
      ]
     },
     "execution_count": 157,
     "metadata": {},
     "output_type": "execute_result"
    }
   ],
   "source": [
    "sort_metrics(epoch_metrics)"
   ]
  },
  {
   "cell_type": "markdown",
   "metadata": {},
   "source": [
    "The max seems to be at 38 epochs, however it is just an improvement of 3% over epoch 18. Not to mention it is still a lot worse than the model with just the FIRE Dataset. Not worth using it for anything."
   ]
  },
  {
   "cell_type": "markdown",
   "metadata": {},
   "source": [
    "Let's now add the third dataset and see how things turn out."
   ]
  },
  {
   "cell_type": "code",
   "execution_count": 158,
   "metadata": {},
   "outputs": [],
   "source": [
    "full_dataset_path = os.path.join(base_path, \"new_full_dataset\")"
   ]
  },
  {
   "cell_type": "code",
   "execution_count": 159,
   "metadata": {},
   "outputs": [],
   "source": [
    "full_dataset = FireDataset(full_dataset_path, transforms=transforms.Compose([\n",
    "                                                                        transforms.Resize((256, 256)),\n",
    "                                                                        transforms.ToTensor()\n",
    "                                                                    ])\n",
    ")\n",
    "\n",
    "full_train_loader, full_val_loader, full_test_loader = split_dataset_into_dataloaders(full_dataset, 50, 0.7, 0.2, 0.1)"
   ]
  },
  {
   "cell_type": "code",
   "execution_count": 160,
   "metadata": {},
   "outputs": [
    {
     "name": "stdout",
     "output_type": "stream",
     "text": [
      "CUDA is available. Using GPU.\n"
     ]
    },
    {
     "data": {
      "application/vnd.jupyter.widget-view+json": {
       "model_id": "c5bc724e625e43da983f85a10d03ee1b",
       "version_major": 2,
       "version_minor": 0
      },
      "text/plain": [
       "  0%|          | 0/40 [00:00<?, ?it/s]"
      ]
     },
     "metadata": {},
     "output_type": "display_data"
    },
    {
     "name": "stdout",
     "output_type": "stream",
     "text": [
      "Epoch [1/40], Train Loss: 0.6524, Train Accuracy: 0.6406, Validation Loss: 0.6233, Validation Accuracy: 0.6597\n",
      "Epoch [2/40], Train Loss: 0.5852, Train Accuracy: 0.6747, Validation Loss: 0.5698, Validation Accuracy: 0.6712\n",
      "Epoch [3/40], Train Loss: 0.5567, Train Accuracy: 0.6931, Validation Loss: 0.5508, Validation Accuracy: 0.6922\n",
      "Epoch [4/40], Train Loss: 0.5344, Train Accuracy: 0.7193, Validation Loss: 0.5301, Validation Accuracy: 0.7305\n",
      "Epoch [5/40], Train Loss: 0.5195, Train Accuracy: 0.7214, Validation Loss: 0.5505, Validation Accuracy: 0.6749\n",
      "Epoch [6/40], Train Loss: 0.4955, Train Accuracy: 0.7464, Validation Loss: 0.4918, Validation Accuracy: 0.7796\n",
      "Epoch [7/40], Train Loss: 0.4809, Train Accuracy: 0.7565, Validation Loss: 0.4718, Validation Accuracy: 0.7832\n",
      "Epoch [8/40], Train Loss: 0.4722, Train Accuracy: 0.7691, Validation Loss: 0.4515, Validation Accuracy: 0.7955\n",
      "Epoch [9/40], Train Loss: 0.4514, Train Accuracy: 0.7819, Validation Loss: 0.4602, Validation Accuracy: 0.7478\n",
      "Epoch [10/40], Train Loss: 0.4380, Train Accuracy: 0.7906, Validation Loss: 0.4289, Validation Accuracy: 0.8020\n",
      "Epoch [11/40], Train Loss: 0.4368, Train Accuracy: 0.7970, Validation Loss: 0.4167, Validation Accuracy: 0.8288\n",
      "Epoch [12/40], Train Loss: 0.4106, Train Accuracy: 0.8170, Validation Loss: 0.4256, Validation Accuracy: 0.7818\n",
      "Epoch [13/40], Train Loss: 0.4000, Train Accuracy: 0.8195, Validation Loss: 0.3982, Validation Accuracy: 0.8345\n",
      "Epoch [14/40], Train Loss: 0.3930, Train Accuracy: 0.8282, Validation Loss: 0.3927, Validation Accuracy: 0.8324\n",
      "Epoch [15/40], Train Loss: 0.3922, Train Accuracy: 0.8201, Validation Loss: 0.4594, Validation Accuracy: 0.7471\n",
      "Epoch [16/40], Train Loss: 0.3753, Train Accuracy: 0.8327, Validation Loss: 0.3813, Validation Accuracy: 0.8454\n",
      "Epoch [17/40], Train Loss: 0.3721, Train Accuracy: 0.8344, Validation Loss: 0.3703, Validation Accuracy: 0.8447\n",
      "Epoch [18/40], Train Loss: 0.3670, Train Accuracy: 0.8395, Validation Loss: 0.4456, Validation Accuracy: 0.7637\n",
      "Epoch [19/40], Train Loss: 0.3570, Train Accuracy: 0.8548, Validation Loss: 0.3657, Validation Accuracy: 0.8410\n",
      "Epoch [20/40], Train Loss: 0.3523, Train Accuracy: 0.8507, Validation Loss: 0.3740, Validation Accuracy: 0.8331\n",
      "Epoch [21/40], Train Loss: 0.3442, Train Accuracy: 0.8499, Validation Loss: 0.3578, Validation Accuracy: 0.8584\n",
      "Epoch [22/40], Train Loss: 0.3362, Train Accuracy: 0.8552, Validation Loss: 0.3457, Validation Accuracy: 0.8533\n",
      "Epoch [23/40], Train Loss: 0.3376, Train Accuracy: 0.8556, Validation Loss: 0.3644, Validation Accuracy: 0.8454\n",
      "Epoch [24/40], Train Loss: 0.3380, Train Accuracy: 0.8540, Validation Loss: 0.3457, Validation Accuracy: 0.8555\n",
      "Epoch [25/40], Train Loss: 0.3213, Train Accuracy: 0.8610, Validation Loss: 0.3612, Validation Accuracy: 0.8396\n",
      "Epoch [26/40], Train Loss: 0.3159, Train Accuracy: 0.8658, Validation Loss: 0.3929, Validation Accuracy: 0.8165\n",
      "Epoch [27/40], Train Loss: 0.3298, Train Accuracy: 0.8558, Validation Loss: 0.3539, Validation Accuracy: 0.8483\n",
      "Epoch [28/40], Train Loss: 0.3170, Train Accuracy: 0.8666, Validation Loss: 0.3353, Validation Accuracy: 0.8548\n",
      "Epoch [29/40], Train Loss: 0.3071, Train Accuracy: 0.8709, Validation Loss: 0.3303, Validation Accuracy: 0.8497\n",
      "Epoch [30/40], Train Loss: 0.2978, Train Accuracy: 0.8765, Validation Loss: 0.3316, Validation Accuracy: 0.8577\n",
      "Epoch [31/40], Train Loss: 0.2924, Train Accuracy: 0.8784, Validation Loss: 0.3660, Validation Accuracy: 0.8382\n",
      "Epoch [32/40], Train Loss: 0.2904, Train Accuracy: 0.8763, Validation Loss: 0.3404, Validation Accuracy: 0.8526\n",
      "Epoch [33/40], Train Loss: 0.2786, Train Accuracy: 0.8837, Validation Loss: 0.3337, Validation Accuracy: 0.8591\n",
      "Epoch [34/40], Train Loss: 0.2842, Train Accuracy: 0.8804, Validation Loss: 0.3648, Validation Accuracy: 0.8410\n",
      "Epoch [35/40], Train Loss: 0.2859, Train Accuracy: 0.8821, Validation Loss: 0.3203, Validation Accuracy: 0.8671\n",
      "Epoch [36/40], Train Loss: 0.2690, Train Accuracy: 0.8893, Validation Loss: 0.3215, Validation Accuracy: 0.8642\n",
      "Epoch [37/40], Train Loss: 0.2702, Train Accuracy: 0.8876, Validation Loss: 0.3172, Validation Accuracy: 0.8671\n",
      "Epoch [38/40], Train Loss: 0.2609, Train Accuracy: 0.8945, Validation Loss: 0.3140, Validation Accuracy: 0.8678\n",
      "Epoch [39/40], Train Loss: 0.2590, Train Accuracy: 0.8947, Validation Loss: 0.3340, Validation Accuracy: 0.8569\n",
      "Epoch [40/40], Train Loss: 0.2562, Train Accuracy: 0.8980, Validation Loss: 0.3260, Validation Accuracy: 0.8584\n",
      "Finished Training\n"
     ]
    }
   ],
   "source": [
    "full_model_name = \"dummy_cnn_full_dataset\"\n",
    "full_model = SimpleCNN()\n",
    "\n",
    "criterion = nn.CrossEntropyLoss()\n",
    "optimizer = optim.SGD(full_model.parameters(), lr=0.0003, momentum=0.9)\n",
    "\n",
    "three_f_history = train_model(full_model, criterion, optimizer, os.path.join(base_path, \"trained_models\"), full_model_name, 40, full_train_loader, full_val_loader, 2)"
   ]
  },
  {
   "cell_type": "code",
   "execution_count": 164,
   "metadata": {},
   "outputs": [],
   "source": [
    "def calculate_epoch_metrics(models_path, model_name, test_loader):\n",
    "    if torch.cuda.is_available():\n",
    "        device = torch.device(\"cuda\")\n",
    "        print(\"CUDA is available. Using GPU.\")\n",
    "    else:\n",
    "        device = torch.device(\"cpu\")\n",
    "        print(\"CUDA is not available. Using CPU.\")\n",
    "\n",
    "    intermediate_model = SimpleCNN().to(device)\n",
    "\n",
    "    epoch_metrics = {}\n",
    "\n",
    "    for dirpath, _, filenames in os.walk(os.path.join(models_path, model_name)):\n",
    "        for model_filename in tqdm(filenames):\n",
    "            intermediate_model.load_state_dict(torch.load(os.path.join(dirpath, model_filename)))\n",
    "            print(model_filename + \" metrics:\")\n",
    "\n",
    "            recall = Recall(task='multiclass',num_classes=2).to(device)\n",
    "            precision = Precision(task='multiclass',num_classes=2).to(device)\n",
    "            f1 = F1Score(task='multiclass',num_classes=2).to(device)\n",
    "\n",
    "            with torch.no_grad():\n",
    "                for data in test_loader:\n",
    "                    inputs, labels = data\n",
    "                    inputs, labels = inputs.to(device), labels.to(device)\n",
    "                    outputs = intermediate_model(inputs)  # forward\n",
    "                    #predicted_binary = (torch.sigmoid(outputs) > 0.5).float()\n",
    "                    predictions = torch.argmax(outputs, dim=1)\n",
    "\n",
    "                    recall.update(predictions, labels)\n",
    "                    precision.update(predictions, labels)\n",
    "                    f1.update(predictions, labels)\n",
    "\n",
    "            precision_value = precision.compute()\n",
    "            recall_value = recall.compute()\n",
    "            f1_value = f1.compute()\n",
    "\n",
    "            print('Precision/Recall/F1 Score')\n",
    "            print('  %.2f     %.2f   %.2f'% (precision_value, recall_value, f1_value))\n",
    "\n",
    "            epoch_metrics[model_filename] = {\n",
    "                \"Precision\": precision_value, \n",
    "                \"Recall\": recall_value, \n",
    "                \"F1Score\": f1_value\n",
    "                }\n",
    "    \n",
    "    return epoch_metrics"
   ]
  },
  {
   "cell_type": "code",
   "execution_count": 165,
   "metadata": {},
   "outputs": [
    {
     "name": "stdout",
     "output_type": "stream",
     "text": [
      "CUDA is available. Using GPU.\n"
     ]
    },
    {
     "data": {
      "application/vnd.jupyter.widget-view+json": {
       "model_id": "edfa47f44a0c4293b950890fb36c7b2c",
       "version_major": 2,
       "version_minor": 0
      },
      "text/plain": [
       "  0%|          | 0/20 [00:00<?, ?it/s]"
      ]
     },
     "metadata": {},
     "output_type": "display_data"
    },
    {
     "name": "stdout",
     "output_type": "stream",
     "text": [
      "epoch_10.pt metrics:\n",
      "Precision/Recall/F1 Score\n",
      "  0.75     0.75   0.75\n",
      "epoch_12.pt metrics:\n",
      "Precision/Recall/F1 Score\n",
      "  0.76     0.76   0.76\n",
      "epoch_14.pt metrics:\n",
      "Precision/Recall/F1 Score\n",
      "  0.73     0.73   0.73\n",
      "epoch_16.pt metrics:\n",
      "Precision/Recall/F1 Score\n",
      "  0.74     0.74   0.74\n",
      "epoch_18.pt metrics:\n",
      "Precision/Recall/F1 Score\n",
      "  0.75     0.75   0.75\n",
      "epoch_2.pt metrics:\n",
      "Precision/Recall/F1 Score\n",
      "  0.50     0.50   0.50\n",
      "epoch_20.pt metrics:\n",
      "Precision/Recall/F1 Score\n",
      "  0.76     0.76   0.76\n",
      "epoch_22.pt metrics:\n",
      "Precision/Recall/F1 Score\n",
      "  0.75     0.75   0.75\n",
      "epoch_24.pt metrics:\n",
      "Precision/Recall/F1 Score\n",
      "  0.80     0.80   0.80\n",
      "epoch_26.pt metrics:\n",
      "Precision/Recall/F1 Score\n",
      "  0.77     0.77   0.77\n",
      "epoch_28.pt metrics:\n",
      "Precision/Recall/F1 Score\n",
      "  0.77     0.77   0.77\n",
      "epoch_30.pt metrics:\n",
      "Precision/Recall/F1 Score\n",
      "  0.75     0.75   0.75\n",
      "epoch_32.pt metrics:\n",
      "Precision/Recall/F1 Score\n",
      "  0.79     0.79   0.79\n",
      "epoch_34.pt metrics:\n",
      "Precision/Recall/F1 Score\n",
      "  0.71     0.71   0.71\n",
      "epoch_36.pt metrics:\n",
      "Precision/Recall/F1 Score\n",
      "  0.76     0.76   0.76\n",
      "epoch_38.pt metrics:\n",
      "Precision/Recall/F1 Score\n",
      "  0.74     0.74   0.74\n",
      "epoch_4.pt metrics:\n",
      "Precision/Recall/F1 Score\n",
      "  0.66     0.66   0.66\n",
      "epoch_40.pt metrics:\n",
      "Precision/Recall/F1 Score\n",
      "  0.78     0.78   0.78\n",
      "epoch_6.pt metrics:\n",
      "Precision/Recall/F1 Score\n",
      "  0.71     0.71   0.71\n",
      "epoch_8.pt metrics:\n",
      "Precision/Recall/F1 Score\n",
      "  0.74     0.74   0.74\n"
     ]
    },
    {
     "data": {
      "text/html": [
       "<div>\n",
       "<style scoped>\n",
       "    .dataframe tbody tr th:only-of-type {\n",
       "        vertical-align: middle;\n",
       "    }\n",
       "\n",
       "    .dataframe tbody tr th {\n",
       "        vertical-align: top;\n",
       "    }\n",
       "\n",
       "    .dataframe thead th {\n",
       "        text-align: right;\n",
       "    }\n",
       "</style>\n",
       "<table border=\"1\" class=\"dataframe\">\n",
       "  <thead>\n",
       "    <tr style=\"text-align: right;\">\n",
       "      <th></th>\n",
       "      <th>Precision</th>\n",
       "      <th>Recall</th>\n",
       "      <th>F1Score</th>\n",
       "    </tr>\n",
       "  </thead>\n",
       "  <tbody>\n",
       "    <tr>\n",
       "      <th>2</th>\n",
       "      <td>0.497330</td>\n",
       "      <td>0.497330</td>\n",
       "      <td>0.497330</td>\n",
       "    </tr>\n",
       "    <tr>\n",
       "      <th>4</th>\n",
       "      <td>0.663885</td>\n",
       "      <td>0.663885</td>\n",
       "      <td>0.663885</td>\n",
       "    </tr>\n",
       "    <tr>\n",
       "      <th>6</th>\n",
       "      <td>0.713618</td>\n",
       "      <td>0.713618</td>\n",
       "      <td>0.713618</td>\n",
       "    </tr>\n",
       "    <tr>\n",
       "      <th>8</th>\n",
       "      <td>0.742991</td>\n",
       "      <td>0.742991</td>\n",
       "      <td>0.742991</td>\n",
       "    </tr>\n",
       "    <tr>\n",
       "      <th>10</th>\n",
       "      <td>0.745995</td>\n",
       "      <td>0.745995</td>\n",
       "      <td>0.745995</td>\n",
       "    </tr>\n",
       "    <tr>\n",
       "      <th>12</th>\n",
       "      <td>0.758678</td>\n",
       "      <td>0.758678</td>\n",
       "      <td>0.758678</td>\n",
       "    </tr>\n",
       "    <tr>\n",
       "      <th>14</th>\n",
       "      <td>0.732977</td>\n",
       "      <td>0.732977</td>\n",
       "      <td>0.732977</td>\n",
       "    </tr>\n",
       "    <tr>\n",
       "      <th>16</th>\n",
       "      <td>0.735648</td>\n",
       "      <td>0.735648</td>\n",
       "      <td>0.735648</td>\n",
       "    </tr>\n",
       "    <tr>\n",
       "      <th>18</th>\n",
       "      <td>0.748665</td>\n",
       "      <td>0.748665</td>\n",
       "      <td>0.748665</td>\n",
       "    </tr>\n",
       "    <tr>\n",
       "      <th>20</th>\n",
       "      <td>0.760681</td>\n",
       "      <td>0.760681</td>\n",
       "      <td>0.760681</td>\n",
       "    </tr>\n",
       "    <tr>\n",
       "      <th>22</th>\n",
       "      <td>0.754673</td>\n",
       "      <td>0.754673</td>\n",
       "      <td>0.754673</td>\n",
       "    </tr>\n",
       "    <tr>\n",
       "      <th>24</th>\n",
       "      <td>0.803071</td>\n",
       "      <td>0.803071</td>\n",
       "      <td>0.803071</td>\n",
       "    </tr>\n",
       "    <tr>\n",
       "      <th>26</th>\n",
       "      <td>0.774700</td>\n",
       "      <td>0.774700</td>\n",
       "      <td>0.774700</td>\n",
       "    </tr>\n",
       "    <tr>\n",
       "      <th>28</th>\n",
       "      <td>0.767690</td>\n",
       "      <td>0.767690</td>\n",
       "      <td>0.767690</td>\n",
       "    </tr>\n",
       "    <tr>\n",
       "      <th>30</th>\n",
       "      <td>0.747330</td>\n",
       "      <td>0.747330</td>\n",
       "      <td>0.747330</td>\n",
       "    </tr>\n",
       "    <tr>\n",
       "      <th>32</th>\n",
       "      <td>0.791722</td>\n",
       "      <td>0.791722</td>\n",
       "      <td>0.791722</td>\n",
       "    </tr>\n",
       "    <tr>\n",
       "      <th>34</th>\n",
       "      <td>0.712951</td>\n",
       "      <td>0.712951</td>\n",
       "      <td>0.712951</td>\n",
       "    </tr>\n",
       "    <tr>\n",
       "      <th>36</th>\n",
       "      <td>0.758344</td>\n",
       "      <td>0.758344</td>\n",
       "      <td>0.758344</td>\n",
       "    </tr>\n",
       "    <tr>\n",
       "      <th>38</th>\n",
       "      <td>0.743658</td>\n",
       "      <td>0.743658</td>\n",
       "      <td>0.743658</td>\n",
       "    </tr>\n",
       "    <tr>\n",
       "      <th>40</th>\n",
       "      <td>0.784379</td>\n",
       "      <td>0.784379</td>\n",
       "      <td>0.784379</td>\n",
       "    </tr>\n",
       "  </tbody>\n",
       "</table>\n",
       "</div>"
      ],
      "text/plain": [
       "    Precision    Recall   F1Score\n",
       "2    0.497330  0.497330  0.497330\n",
       "4    0.663885  0.663885  0.663885\n",
       "6    0.713618  0.713618  0.713618\n",
       "8    0.742991  0.742991  0.742991\n",
       "10   0.745995  0.745995  0.745995\n",
       "12   0.758678  0.758678  0.758678\n",
       "14   0.732977  0.732977  0.732977\n",
       "16   0.735648  0.735648  0.735648\n",
       "18   0.748665  0.748665  0.748665\n",
       "20   0.760681  0.760681  0.760681\n",
       "22   0.754673  0.754673  0.754673\n",
       "24   0.803071  0.803071  0.803071\n",
       "26   0.774700  0.774700  0.774700\n",
       "28   0.767690  0.767690  0.767690\n",
       "30   0.747330  0.747330  0.747330\n",
       "32   0.791722  0.791722  0.791722\n",
       "34   0.712951  0.712951  0.712951\n",
       "36   0.758344  0.758344  0.758344\n",
       "38   0.743658  0.743658  0.743658\n",
       "40   0.784379  0.784379  0.784379"
      ]
     },
     "execution_count": 165,
     "metadata": {},
     "output_type": "execute_result"
    }
   ],
   "source": [
    "full_epoch_metrics = calculate_epoch_metrics(os.path.join(base_path, \"trained_models\"), full_model_name, custom_test_loader)\n",
    "sort_metrics(full_epoch_metrics)"
   ]
  },
  {
   "cell_type": "code",
   "execution_count": 167,
   "metadata": {},
   "outputs": [
    {
     "data": {
      "text/plain": [
       "Precision    0.803071\n",
       "Recall       0.803071\n",
       "F1Score      0.803071\n",
       "Name: 24, dtype: float64"
      ]
     },
     "execution_count": 167,
     "metadata": {},
     "output_type": "execute_result"
    }
   ],
   "source": [
    "full_epoch_metrics_sorted = sort_metrics(full_epoch_metrics)\n",
    "full_epoch_metrics_sorted.loc[full_epoch_metrics_sorted['Precision'].idxmax()]"
   ]
  },
  {
   "cell_type": "markdown",
   "metadata": {},
   "source": [
    "Looks like at 24 epochs the model got 5% better than our model that was only trained with the first dataset."
   ]
  },
  {
   "cell_type": "markdown",
   "metadata": {},
   "source": [
    "Let's store this model and test it on the videos."
   ]
  },
  {
   "cell_type": "code",
   "execution_count": 170,
   "metadata": {},
   "outputs": [
    {
     "data": {
      "text/plain": [
       "<All keys matched successfully>"
      ]
     },
     "execution_count": 170,
     "metadata": {},
     "output_type": "execute_result"
    }
   ],
   "source": [
    "full_model_best = SimpleCNN()\n",
    "full_model_best.load_state_dict(torch.load(os.path.join(base_path, \"trained_models\", full_model_name, \"epoch_24.pt\")))"
   ]
  },
  {
   "cell_type": "code",
   "execution_count": 171,
   "metadata": {},
   "outputs": [],
   "source": [
    "import random\n",
    "from collections import Counter"
   ]
  },
  {
   "cell_type": "code",
   "execution_count": 172,
   "metadata": {},
   "outputs": [],
   "source": [
    "videos_folder = os.path.join(base_path, \"test dataset videos\")"
   ]
  },
  {
   "cell_type": "code",
   "execution_count": 173,
   "metadata": {},
   "outputs": [],
   "source": [
    "transform_video = transforms.Compose([\n",
    "    transforms.ToPILImage(),\n",
    "    transforms.Resize((256, 256)),\n",
    "    transforms.ToTensor(),\n",
    "    #transforms.Lambda(lambda x: x.to(device))\n",
    "])"
   ]
  },
  {
   "cell_type": "code",
   "execution_count": 223,
   "metadata": {},
   "outputs": [
    {
     "data": {
      "text/plain": [
       "'C:\\\\Users\\\\johnn\\\\Desktop\\\\Repos\\\\Capstonfire\\\\test dataset videos\\\\storm_timelapse.mp4'"
      ]
     },
     "execution_count": 223,
     "metadata": {},
     "output_type": "execute_result"
    }
   ],
   "source": [
    "random_number = random.randint(0, 19)\n",
    "random_odd_number = random_number + 1 if random_number % 2 == 0 else random_number\n",
    "example_video = os.path.join(videos_folder, os.listdir(videos_folder)[random_odd_number])\n",
    "example_video"
   ]
  },
  {
   "cell_type": "code",
   "execution_count": 224,
   "metadata": {},
   "outputs": [
    {
     "data": {
      "text/plain": [
       "{'fire': 0.37625289128758677, 'non_fire': 0.6229760986892829}"
      ]
     },
     "execution_count": 224,
     "metadata": {},
     "output_type": "execute_result"
    }
   ],
   "source": [
    "predictions = run_video(example_video, full_model_best, transform_video)\n",
    "predictions"
   ]
  },
  {
   "cell_type": "code",
   "execution_count": 230,
   "metadata": {},
   "outputs": [
    {
     "data": {
      "application/vnd.jupyter.widget-view+json": {
       "model_id": "0778a067a7a84efba33e1a03eac6a219",
       "version_major": 2,
       "version_minor": 0
      },
      "text/plain": [
       "  0%|          | 0/233 [00:00<?, ?it/s]"
      ]
     },
     "metadata": {},
     "output_type": "display_data"
    },
    {
     "name": "stdout",
     "output_type": "stream",
     "text": [
      "{'fire': 0.37625289128758677, 'non_fire': 0.6229760986892829}\n",
      "{'fire': 0.6437768240343348, 'non_fire': 0.3562231759656652}\n"
     ]
    }
   ],
   "source": [
    "fetched_video_image_folder = os.path.join(example_video[0:-4])\n",
    "fetched_video_dataset = FireDataset(fetched_video_image_folder, transforms=three_f_transform)\n",
    "\n",
    "video_labels = [label for _, label in fetched_video_dataset.data]\n",
    "full_model = full_model.to(\"cpu\")\n",
    "# Calculate the total number of labels\n",
    "total_video_images = len(video_labels)\n",
    "\n",
    "fire_count = 0\n",
    "non_fire_count = 0\n",
    "\n",
    "with torch.no_grad():\n",
    "    for data in tqdm(fetched_video_dataset):\n",
    "        inputs, labels = data\n",
    "        outputs = full_model_best(inputs)  # forward\n",
    "        #predicted_binary = (torch.sigmoid(outputs) > 0.5).float()\n",
    "        current_prediction = torch.argmax(outputs, dim=1)\n",
    "\n",
    "        # Count occurrences of 0 and 1 in predictions\n",
    "        fire_count += torch.sum(current_prediction == 0).item()\n",
    "        non_fire_count += torch.sum(current_prediction == 1).item()\n",
    "\n",
    "print(predictions)\n",
    "print({'fire': fire_count/total_video_images, 'non_fire': non_fire_count/total_video_images})"
   ]
  },
  {
   "cell_type": "code",
   "execution_count": 236,
   "metadata": {},
   "outputs": [
    {
     "data": {
      "application/vnd.jupyter.widget-view+json": {
       "model_id": "bf2ef6c31f7142e58859d40aaf3ed26f",
       "version_major": 2,
       "version_minor": 0
      },
      "text/plain": [
       "  0%|          | 0/20 [00:00<?, ?it/s]"
      ]
     },
     "metadata": {},
     "output_type": "display_data"
    },
    {
     "name": "stdout",
     "output_type": "stream",
     "text": [
      "cloud_forming\n",
      "64 143 143\n",
      "drone_footage\n"
     ]
    },
    {
     "name": "stderr",
     "output_type": "stream",
     "text": [
      "C:\\Users\\johnn\\AppData\\Local\\Temp\\ipykernel_12384\\3563023728.py:36: FutureWarning: The behavior of DataFrame concatenation with empty or all-NA entries is deprecated. In a future version, this will no longer exclude empty or all-NA columns when determining the result dtypes. To retain the old behavior, exclude the relevant entries before the concat operation.\n",
      "  video_predictions = pd.concat([video_predictions,\n"
     ]
    },
    {
     "name": "stdout",
     "output_type": "stream",
     "text": [
      "423 118 419\n",
      "firefighting\n",
      "156 25 156\n",
      "forest_timelapse_2\n",
      "49 405 405\n",
      "forest_time_lapse_1\n",
      "0 248 248\n",
      "forest_video\n",
      "60 568 568\n",
      "stock_footage\n",
      "50 0 50\n",
      "storm_timelapse\n",
      "150 83 83\n",
      "timelapse\n",
      "173 171 233\n",
      "voa_fire\n",
      "101 9 101\n"
     ]
    },
    {
     "data": {
      "text/html": [
       "<div>\n",
       "<style scoped>\n",
       "    .dataframe tbody tr th:only-of-type {\n",
       "        vertical-align: middle;\n",
       "    }\n",
       "\n",
       "    .dataframe tbody tr th {\n",
       "        vertical-align: top;\n",
       "    }\n",
       "\n",
       "    .dataframe thead th {\n",
       "        text-align: right;\n",
       "    }\n",
       "</style>\n",
       "<table border=\"1\" class=\"dataframe\">\n",
       "  <thead>\n",
       "    <tr style=\"text-align: right;\">\n",
       "      <th></th>\n",
       "      <th>video_name</th>\n",
       "      <th>%_actual_fire_images</th>\n",
       "      <th>%_actual_non_fire_images</th>\n",
       "      <th>%_predicted_fire_images</th>\n",
       "      <th>%_predicted_non_fire_images</th>\n",
       "      <th>%_correct</th>\n",
       "    </tr>\n",
       "  </thead>\n",
       "  <tbody>\n",
       "    <tr>\n",
       "      <th>0</th>\n",
       "      <td>cloud_forming</td>\n",
       "      <td>0.000000</td>\n",
       "      <td>1.000000</td>\n",
       "      <td>0.309179</td>\n",
       "      <td>0.690821</td>\n",
       "      <td>0.690821</td>\n",
       "    </tr>\n",
       "    <tr>\n",
       "      <th>0</th>\n",
       "      <td>drone_footage</td>\n",
       "      <td>0.940850</td>\n",
       "      <td>0.059150</td>\n",
       "      <td>0.781885</td>\n",
       "      <td>0.218115</td>\n",
       "      <td>0.774492</td>\n",
       "    </tr>\n",
       "    <tr>\n",
       "      <th>0</th>\n",
       "      <td>firefighting</td>\n",
       "      <td>1.000000</td>\n",
       "      <td>0.000000</td>\n",
       "      <td>0.861878</td>\n",
       "      <td>0.138122</td>\n",
       "      <td>0.861878</td>\n",
       "    </tr>\n",
       "    <tr>\n",
       "      <th>0</th>\n",
       "      <td>forest_timelapse_2</td>\n",
       "      <td>0.000000</td>\n",
       "      <td>1.000000</td>\n",
       "      <td>0.107930</td>\n",
       "      <td>0.892070</td>\n",
       "      <td>0.892070</td>\n",
       "    </tr>\n",
       "    <tr>\n",
       "      <th>0</th>\n",
       "      <td>forest_time_lapse_1</td>\n",
       "      <td>0.000000</td>\n",
       "      <td>1.000000</td>\n",
       "      <td>0.000000</td>\n",
       "      <td>1.000000</td>\n",
       "      <td>1.000000</td>\n",
       "    </tr>\n",
       "    <tr>\n",
       "      <th>0</th>\n",
       "      <td>forest_video</td>\n",
       "      <td>0.000000</td>\n",
       "      <td>1.000000</td>\n",
       "      <td>0.095541</td>\n",
       "      <td>0.904459</td>\n",
       "      <td>0.904459</td>\n",
       "    </tr>\n",
       "    <tr>\n",
       "      <th>0</th>\n",
       "      <td>stock_footage</td>\n",
       "      <td>1.000000</td>\n",
       "      <td>0.000000</td>\n",
       "      <td>1.000000</td>\n",
       "      <td>0.000000</td>\n",
       "      <td>1.000000</td>\n",
       "    </tr>\n",
       "    <tr>\n",
       "      <th>0</th>\n",
       "      <td>storm_timelapse</td>\n",
       "      <td>0.000000</td>\n",
       "      <td>1.000000</td>\n",
       "      <td>0.643777</td>\n",
       "      <td>0.356223</td>\n",
       "      <td>0.356223</td>\n",
       "    </tr>\n",
       "    <tr>\n",
       "      <th>0</th>\n",
       "      <td>timelapse</td>\n",
       "      <td>0.674419</td>\n",
       "      <td>0.325581</td>\n",
       "      <td>0.502907</td>\n",
       "      <td>0.497093</td>\n",
       "      <td>0.677326</td>\n",
       "    </tr>\n",
       "    <tr>\n",
       "      <th>0</th>\n",
       "      <td>voa_fire</td>\n",
       "      <td>1.000000</td>\n",
       "      <td>0.000000</td>\n",
       "      <td>0.918182</td>\n",
       "      <td>0.081818</td>\n",
       "      <td>0.918182</td>\n",
       "    </tr>\n",
       "  </tbody>\n",
       "</table>\n",
       "</div>"
      ],
      "text/plain": [
       "            video_name  %_actual_fire_images  %_actual_non_fire_images  \\\n",
       "0        cloud_forming              0.000000                  1.000000   \n",
       "0        drone_footage              0.940850                  0.059150   \n",
       "0         firefighting              1.000000                  0.000000   \n",
       "0   forest_timelapse_2              0.000000                  1.000000   \n",
       "0  forest_time_lapse_1              0.000000                  1.000000   \n",
       "0         forest_video              0.000000                  1.000000   \n",
       "0        stock_footage              1.000000                  0.000000   \n",
       "0      storm_timelapse              0.000000                  1.000000   \n",
       "0            timelapse              0.674419                  0.325581   \n",
       "0             voa_fire              1.000000                  0.000000   \n",
       "\n",
       "   %_predicted_fire_images  %_predicted_non_fire_images  %_correct  \n",
       "0                 0.309179                     0.690821   0.690821  \n",
       "0                 0.781885                     0.218115   0.774492  \n",
       "0                 0.861878                     0.138122   0.861878  \n",
       "0                 0.107930                     0.892070   0.892070  \n",
       "0                 0.000000                     1.000000   1.000000  \n",
       "0                 0.095541                     0.904459   0.904459  \n",
       "0                 1.000000                     0.000000   1.000000  \n",
       "0                 0.643777                     0.356223   0.356223  \n",
       "0                 0.502907                     0.497093   0.677326  \n",
       "0                 0.918182                     0.081818   0.918182  "
      ]
     },
     "execution_count": 236,
     "metadata": {},
     "output_type": "execute_result"
    }
   ],
   "source": [
    "fetched_video_image_folder = os.path.join(example_video[0:-4])\n",
    "video_predictions = pd.DataFrame(columns=['video_name', '%_actual_fire_images', '%_actual_non_fire_images', '%_predicted_fire_images', '%_predicted_non_fire_images', '%_correct'])\n",
    "full_model_best = full_model_best.to('cpu')\n",
    "\n",
    "for folder in tqdm(os.listdir(videos_folder)):\n",
    "    if \".\" in folder:\n",
    "        continue\n",
    "\n",
    "    folder_dataset = FireDataset(os.path.join(videos_folder, folder), transforms=three_f_transform)\n",
    "\n",
    "    print(folder)\n",
    "    video_labels = {0: 0, 1: 0}\n",
    "    for class_name, count in Counter([label for _, label in folder_dataset.data]).items():\n",
    "        video_labels[class_name] = count \n",
    "\n",
    "    total_video_images = video_labels[0] + video_labels[1]\n",
    "\n",
    "    fire_count = 0\n",
    "    non_fire_count = 0\n",
    "    is_correct = 0\n",
    "\n",
    "    with torch.no_grad():\n",
    "        for data in folder_dataset:\n",
    "            input, label = data\n",
    "            outputs = full_model_best(input)  # forward\n",
    "            #predicted_binary = (torch.sigmoid(outputs) > 0.5).float()\n",
    "            current_prediction = torch.argmax(outputs, dim=1)\n",
    "\n",
    "            # Count occurrences of 0 and 1 in predictions\n",
    "            fire_count += torch.sum(current_prediction == 0).item()\n",
    "            non_fire_count += torch.sum(current_prediction == 1).item()\n",
    "            is_correct += torch.sum(current_prediction == label).item()\n",
    "    \n",
    "    video_predictions = pd.concat([video_predictions, \n",
    "                                        pd.DataFrame([[folder, video_labels[0]/total_video_images, video_labels[1]/total_video_images, fire_count/total_video_images, non_fire_count/total_video_images, is_correct/total_video_images]], \n",
    "                                        columns=['video_name', '%_actual_fire_images', '%_actual_non_fire_images', '%_predicted_fire_images', '%_predicted_non_fire_images', '%_correct'])])\n",
    "\n",
    "video_predictions"
   ]
  },
  {
   "cell_type": "code",
   "execution_count": 237,
   "metadata": {},
   "outputs": [
    {
     "data": {
      "text/plain": [
       "0.8075451049998007"
      ]
     },
     "execution_count": 237,
     "metadata": {},
     "output_type": "execute_result"
    }
   ],
   "source": [
    "video_predictions['%_correct'].mean()"
   ]
  },
  {
   "cell_type": "markdown",
   "metadata": {},
   "source": [
    "Results for all videos:\n",
    "\n",
    "Fire videos:\n",
    "\n",
    " - \"Raging Wildfires Burn Across Canada Sending Smoke Down to the US\" - actual: {'fire': 1, 'non_fire': 0}; predicted:{'fire': 0.86, 'non_fire': 0.14}\n",
    " - \"Bighorn Fire Timelapse 6-17-2020\" - actual: {'fire': 0.67, 'non_fire': 0.33}; predicted:{'fire': 0.5, 'non_fire': 0.5}\n",
    " - \"Inside a Wildfire - Dramatic Drone Footage! Ep. 193a.\" - actual: {fire: 0.94, non_fire: 0.06}; predicted: {'fire': 0.78, 'non_fire': 0.22}\n",
    " - \"Wildfire Forest Fire (FREE STOCK VIDEO)\" - actual: {'fire': 1.0, 'non_fire': 0.0}; predicted: {'fire': 1.0, 'non_fire': 0.0}\n",
    " - \"Aerial Footage Shows Scale of Fires in Australia\" - actual: {'fire': 1, 'non_fire': 0}; predicted: {'fire': 0.92, 'non_fire': 0.08}\n",
    "\n",
    "Non-fire videos:\n",
    "\n",
    " - \"Amazing Storm Timelapse\" - actual: {fire: 0, non_fire: 1.0}; predicted: {'fire': 0.99, 'non_fire': 0.01}\n",
    " - \"NEMUS - 4K Forest Time-Lapse\" - actual: {'fire': 0.0, 'non_fire': 1.0}; predicted: {'fire': 0, 'non_fire': 1}\n",
    " - \"THE FOREST - A Time-Lapse Journey Through the Forgotten Norway 4K\" - actual: {fire: 0, non_fire: 1.0} ; predicted:{'fire': 0.11, 'non_fire': 0.89}\n",
    " - \"Forming cumulonimbus (timelapse)\" - actual: {'fire': 0.0, 'non_fire': 1.0}; predicted: {'fire': 0.31, 'non_fire': 0.69}\n",
    " - \"DARK FOG | Cinematic Video\" - actual: {'fire': 0, 'non_fire': 1}; predicted: {'fire': 0.10, 'non_fire': 0.90}"
   ]
  },
  {
   "cell_type": "markdown",
   "metadata": {},
   "source": [
    "Looks like for some videos the model predicted better, while for others the model predict less well. Overall, the model seems to be predicting better in general, thanks to images from the Wildfire dataset. The images that might be making the most difference are those with smoke confounding elements, which seem like smoke but actually are not, which gives the model a better generalization capacity."
   ]
  },
  {
   "cell_type": "markdown",
   "metadata": {},
   "source": [
    "Right now there is not much time to improve the model, however things we can still do are:\n",
    "\n",
    "- give more weight to non_fire images,\n",
    "- find more images that are different to the ones we have now, and\n",
    "- try a model with more filters, different kernel sizes and more layers."
   ]
  },
  {
   "cell_type": "markdown",
   "metadata": {},
   "source": [
    "For the second possibility, we chose not to do it because it would take a considerable longer time.\n",
    "\n",
    "For the third possibility, we think that that would not work that well, due to previous experiments we had tried (see capstone_deeper_cnn.ipynb file which has one more Linear layer, more filters and smaller kernels).\n",
    "\n",
    "Therefore, we decided to try and give more weights to non_fire images."
   ]
  },
  {
   "cell_type": "markdown",
   "metadata": {},
   "source": [
    "Let's do it."
   ]
  },
  {
   "cell_type": "code",
   "execution_count": null,
   "metadata": {},
   "outputs": [],
   "source": []
  }
 ],
 "metadata": {
  "kernelspec": {
   "display_name": "Python 3",
   "language": "python",
   "name": "python3"
  },
  "language_info": {
   "codemirror_mode": {
    "name": "ipython",
    "version": 3
   },
   "file_extension": ".py",
   "mimetype": "text/x-python",
   "name": "python",
   "nbconvert_exporter": "python",
   "pygments_lexer": "ipython3",
   "version": "3.11.5"
  }
 },
 "nbformat": 4,
 "nbformat_minor": 2
}
